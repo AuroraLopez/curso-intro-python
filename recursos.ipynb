{
 "cells": [
  {
   "cell_type": "markdown",
   "metadata": {},
   "source": [
    "# Recursos"
   ]
  },
  {
   "cell_type": "markdown",
   "metadata": {},
   "source": [
    "## Tema 2 - boolean evaluation"
   ]
  },
  {
   "cell_type": "code",
   "execution_count": null,
   "metadata": {},
   "outputs": [],
   "source": [
    "for obj in True, False, None, 5, 0, 'a', '', [0], [], 4==4, 4==5, 3>2:\n",
    "    print(f\"if {}: print({}, '\\t-->  Verdadero')\"\n",
    "    else:   print(obj, '\\t-->  Falso')"
   ]
  },
  {
   "cell_type": "code",
   "execution_count": null,
   "metadata": {},
   "outputs": [],
   "source": [
    "def testTruth(objStr):\n",
    "    obj = eval(objStr)\n",
    "    if obj: print(objStr, '\\t-->  Verdadero')\n",
    "    else:   print(objStr, '\\t-->  Falso')"
   ]
  },
  {
   "cell_type": "code",
   "execution_count": 4,
   "metadata": {
    "collapsed": true,
    "jupyter": {
     "outputs_hidden": true
    }
   },
   "outputs": [
    {
     "name": "stdout",
     "output_type": "stream",
     "text": [
      "if True: print('True', '\\t-->  Verdadero')\n",
      "else:     print('True', '\\t-->  Falso')\n",
      "if False: print('False', '\\t-->  Verdadero')\n",
      "else:     print('False', '\\t-->  Falso')\n",
      "if None: print('None', '\\t-->  Verdadero')\n",
      "else:     print('None', '\\t-->  Falso')\n",
      "if 5: print('5', '\\t-->  Verdadero')\n",
      "else:     print('5', '\\t-->  Falso')\n",
      "if 0: print('0', '\\t-->  Verdadero')\n",
      "else:     print('0', '\\t-->  Falso')\n",
      "if a: print('a', '\\t-->  Verdadero')\n",
      "else:     print('a', '\\t-->  Falso')\n",
      "if : print('', '\\t-->  Verdadero')\n",
      "else:     print('', '\\t-->  Falso')\n",
      "if [0]: print('[0]', '\\t-->  Verdadero')\n",
      "else:     print('[0]', '\\t-->  Falso')\n",
      "if []: print('[]', '\\t-->  Verdadero')\n",
      "else:     print('[]', '\\t-->  Falso')\n",
      "if 4==4: print('4==4', '\\t-->  Verdadero')\n",
      "else:     print('4==4', '\\t-->  Falso')\n",
      "if 4==5: print('4==5', '\\t-->  Verdadero')\n",
      "else:     print('4==5', '\\t-->  Falso')\n",
      "if 3>2: print('3>2', '\\t-->  Verdadero')\n",
      "else:     print('3>2', '\\t-->  Falso')\n"
     ]
    }
   ],
   "source": [
    "for obj in True, False, None, 5, 0, \"\"'a'\"\", \"\"''\"\", '[0]', [], '4==4', '4==5', '3>2':\n",
    "    print(f\"if {obj}: print('{obj}', '\\\\t-->  Verdadero')\")\n",
    "    print(f\"else:     print('{obj}', '\\\\t-->  Falso')\") "
   ]
  },
  {
   "cell_type": "code",
   "execution_count": null,
   "metadata": {},
   "outputs": [],
   "source": []
  }
 ],
 "metadata": {
  "kernelspec": {
   "display_name": "Python 3",
   "language": "python",
   "name": "python3"
  },
  "language_info": {
   "codemirror_mode": {
    "name": "ipython",
    "version": 3
   },
   "file_extension": ".py",
   "mimetype": "text/x-python",
   "name": "python",
   "nbconvert_exporter": "python",
   "pygments_lexer": "ipython3",
   "version": "3.8.2"
  }
 },
 "nbformat": 4,
 "nbformat_minor": 4
}
