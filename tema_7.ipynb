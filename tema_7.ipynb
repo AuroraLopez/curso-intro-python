{
 "cells": [
  {
   "cell_type": "markdown",
   "metadata": {
    "slideshow": {
     "slide_type": "slide"
    }
   },
   "source": [
    "<font size=6>\n",
    "\n",
    "<b>Curso de Programación en Python</b>\n",
    "</font>\n",
    "\n",
    "<font size=4>\n",
    "    \n",
    "Curso de formación interna, CIEMAT. <br/>\n",
    "Madrid, Octubre de 2021\n",
    "\n",
    "Antonio Delgado Peris\n",
    "</font>\n",
    "\n",
    "https://github.com/andelpe/curso-intro-python/\n",
    "\n",
    "<br/>"
   ]
  },
  {
   "cell_type": "markdown",
   "metadata": {},
   "source": [
    "# Tema 7 - Clases y objetos"
   ]
  },
  {
   "cell_type": "markdown",
   "metadata": {},
   "source": [
    "## Objetivos\n",
    "\n",
    "- Conocer cómo funciona la programación orientada a objetos (_OOP_) en Python\n",
    "\n",
    "  - Definir clases como nuevos tipos de datos\n",
    "  - Instanciar y usar objetos de clases\n",
    "  - Aplicar a python conceptos clásicos de O.O.P\n",
    "  \n",
    "    - Privacidad, Herencia, Polimorfismo\n",
    "\n",
    "\n",
    "- Manejar las clases mismas como objetos"
   ]
  },
  {
   "cell_type": "markdown",
   "metadata": {},
   "source": [
    "## Programación orientada a objetos\n",
    "\n",
    "La programación orientada a objetos (O.O.P.) es un modelo (paradigma) de programación, que se basa en los siguientes principios:\n",
    "\n",
    "- Agrupar datos y funciones en objetos que pertenecen a clases (tipos definidos por el programador)\n",
    "- Los objetos modelizan entidades del mundo real\n",
    "- Se ocultan los detalles de la implementación tras un interfaz (_Encapsulación_)\n",
    "- Se prima la reutilización de código, y la jerarquización de clases usando _Herencia_ (unas clases extienden a otras).\n",
    "- La jerarquía de clases y la herencia permiten obtener _Polimorfismo_ (en Python, se consigue de otra manera)\n",
    "\n",
    "La O.O.P es una manera de afrontar un problema, y es posible utilizarla con casi cualquier lenguaje, pero algunos están diseñados específicamente para ello:\n",
    "\n",
    "- Con C es difícil, con C++ posible, con Java obligatorio\n",
    "- En python, la O.O.P es opcional, lo que algunos consideran un modelo menos elegante, pero en la práctica es versátil\n",
    "\n",
    "Es imposible enseñar O.O.P. en un curso introductorio, pero podemos mostrar cómo se hace técnicamente en Python para aquellos que ya la conocen de otros lenguajes (o que la pueden necesitar en el futuro)."
   ]
  },
  {
   "cell_type": "markdown",
   "metadata": {},
   "source": [
    "## Clases e instancias\n",
    "\n",
    "Las clases definen un _tipo_ de objetos\n",
    "\n",
    "- Crean su propio namespace\n",
    "- Definen atributos (miembros): \n",
    "  - Datos\n",
    "  - Funciones (métodos)\n",
    "    \n",
    "Las _instancias_ de una clase son los _objetos_, cuyo tipo es esa clase.\n",
    "\n",
    "  - Se pueden definir Múltiples instancias para una misma clase\n",
    "  \n",
    "Ya hemos visto muchos objetos:\n",
    "\n",
    "- Clase: `int`.  Objetos: `3`, `int(‘4’)`. Atributo: `int(4).real`\n",
    "- Clase: `str`.  Objetos: `'abc'`, `'xy'`. Método: `'xy'.split`\n",
    "\n",
    "### Nuevas clases\n",
    "\n",
    "En su forma más general una nueva clase se define con:\n",
    "\n",
    "```python\n",
    "class <nombre>:\n",
    "    instrucción\n",
    "    instrucción\n",
    "    ...\n",
    "```\n",
    "\n",
    "Lo más esencial de una clase son las funciones miembro.\n",
    "\n",
    "- La función `__init__` es especial; es el _constructor_, que se llama cuando se crea una nueva instancia de la clase.\n",
    "- El primer argumento de todos los métodos (`self`) es una referencia a la instancia llamante (pasada automáticamente)\n",
    "- Si definimos atributos de 'self' estamos creando un atributo de instancia (diferente para cada instancia)"
   ]
  },
  {
   "cell_type": "code",
   "execution_count": null,
   "metadata": {},
   "outputs": [],
   "source": [
    "class Sumador:\n",
    "    \"\"\"\n",
    "    Class keeping track of a value, which can only increase.\n",
    "    \"\"\"\n",
    "    def __init__(self, start):\n",
    "        \"\"\"\n",
    "        Constructor, accepting the initial value to track.\n",
    "        \"\"\"\n",
    "        self.val = start\n",
    "\n",
    "    def __str__(self):\n",
    "        return f'Sumador, val: {self.val}'\n",
    "        \n",
    "    def add(self, amount):\n",
    "        \"\"\"\n",
    "        Adds the specified 'amount' from tracked value\n",
    "        \"\"\"        \n",
    "        self.val += amount\n",
    "\n",
    "# Llamamos a 'Numero.__init__', 'self' apunta al nuevo 'o', 'val' a 3\n",
    "s1 = Sumador(3)  \n",
    "print(s1)"
   ]
  },
  {
   "cell_type": "code",
   "execution_count": null,
   "metadata": {},
   "outputs": [],
   "source": [
    "# Llamamos a 'Numero.add', self' apunta a 'o', y 'added' a 5\n",
    "s1.add(5) \n",
    "\n",
    "# Accedemos al atributo 'val' de la instancia 'o'\n",
    "print(s1.val) \n",
    "\n",
    "print('type(s1):', type(s1))\n",
    "print('type(Sumador):', type(Sumador))"
   ]
  },
  {
   "cell_type": "code",
   "execution_count": null,
   "metadata": {},
   "outputs": [],
   "source": [
    "x = dict(a=1, b=2)\n",
    "str(x)"
   ]
  },
  {
   "cell_type": "markdown",
   "metadata": {},
   "source": [
    "- También se pueden definir variables _de clase_, compartidas por todas las instancias."
   ]
  },
  {
   "cell_type": "code",
   "execution_count": null,
   "metadata": {},
   "outputs": [],
   "source": [
    "class Pcg:\n",
    "    \n",
    "    const = 100\n",
    "    \n",
    "    def __init__(self, val):  \n",
    "        self.val = val\n",
    "    \n",
    "    def pcg(self, num):\n",
    "        return Pcg.const * num/self.val\n",
    "\n",
    "p = Pcg(1000)\n",
    "print(p.pcg(300))\n",
    "\n",
    "p2 = Pcg(500)\n",
    "print(p2.pcg(300))\n",
    "\n",
    "print(Pcg.const)\n",
    "print(p.const, p.val)\n",
    "print(p2.const, p2.val)"
   ]
  },
  {
   "cell_type": "markdown",
   "metadata": {},
   "source": [
    "- Incluso podemos definir/modificar variables de clase o instancia dinámicamente (sin existir en su definición)"
   ]
  },
  {
   "cell_type": "code",
   "execution_count": null,
   "metadata": {},
   "outputs": [],
   "source": [
    "Pcg.const = 100\n",
    "print(Pcg.const)\n",
    "print(p.const)\n",
    "\n",
    "p.new = 20\n",
    "print(p.new)"
   ]
  },
  {
   "cell_type": "markdown",
   "metadata": {},
   "source": [
    " **NOTA** (_avanzado_): \n",
    "\n",
    "Hemos visto los atributos de clase, pero, por defecto, todos los métodos son _de instancia_. Es decir, reciben una referencia a la instancia como primer argumento (`self`, por convención).\n",
    "\n",
    "Es posible definir _métodos de clase_ (reciben una referencia a la clase, en lugar de a la instancia como primer argumento), y _métodos estáticos_ (no reciben ningún primer argumento especial).\n",
    "\n",
    "Para definir este tipo de métodos, hay que usar el _decorador_ apropiado:\n",
    "\n",
    "```python\n",
    "class X:\n",
    "\n",
    "  @classmethod\n",
    "  def f1(cls, arg1):\n",
    "      bla bla\n",
    "\n",
    "  @staticmethod\n",
    "  def f2(arg1, arg2):\n",
    "      bla bla\n",
    "```\n",
    "\n",
    "Hablaremos sobre decoradores en el próximo tema."
   ]
  },
  {
   "cell_type": "markdown",
   "metadata": {},
   "source": [
    "## Privacidad y convenciones\n",
    "\n",
    "En muchos lenguajes se fuerza la privacidad de los miembros:\n",
    "\n",
    "- Algunos métodos no son accesibles\n",
    "- Se desaconseja el acceso directo a los datos atributos (se usan _setters_ y _getters_)\n",
    "\n",
    "\n",
    "En Python, todo queda a la voluntad del llamante (no se imponen restricciones)\n",
    "\n",
    "- Convención: atributos privados comienzan con ‘_’ (no utilizarlos en código a mantener)\n",
    "- Nota: no usar nombres con `__<nombre>__`, que tienen usos especiales, como `__init__`\n",
    "\n",
    "En Python, se considera adecuado acceder directamente a atributos (`instancia.dato`)\n",
    "\n",
    "- Pero existe un modo de interponer un interfaz controlado si es necesario (`Properties`)"
   ]
  },
  {
   "cell_type": "markdown",
   "metadata": {},
   "source": [
    "<br/>\n",
    "\n",
    "<div style=\"background-color:powderblue;\">\n",
    "\n",
    "**EJERCICIO e7_1:** \n",
    "\n",
    "Crear una clase `Grafo` que represente a un grafo.\n",
    "    \n",
    "- Contendrá un atributo diccionario de nodos y conexiones (como los utilizados anteriormente).\n",
    "    \n",
    "- Su constructor será: `__init__(self, dicc)`\n",
    "    \n",
    "- Ofrecerá los siguientes métodos (utilizar las funciones de `modulos.graph_plot`):\n",
    "  - `path(start, end)`:  devuelve el path entre dos nodos, `start` y `end`, como lista de nodos \n",
    "  - `draw(path=None)` : muestra un plot del grafo, opcionalmente marcando un camino entre dos nodos\n",
    "\n",
    "Instanciar un objeto de tipo `Grafo`, y probar los métodos anteriores."
   ]
  },
  {
   "cell_type": "markdown",
   "metadata": {},
   "source": [
    "## Herencia\n",
    "\n",
    "Una clase que extiende a otra, hereda sus atributos (sin reescribirlos)\n",
    "\n",
    "- Puede usarlos, redefinirlos, añadir nuevos\n",
    "- Python soporta la herencia múltiple (no la vamos a ver)\n"
   ]
  },
  {
   "cell_type": "code",
   "execution_count": null,
   "metadata": {},
   "outputs": [],
   "source": [
    "class Medidor(Sumador):\n",
    "    \"\"\"\n",
    "    Class keeping track of a value, which can increase or decrease, but\n",
    "    not below the specified minimum.\n",
    "    \"\"\"\n",
    "    \n",
    "    def __init__(self, start, minimum):\n",
    "        \"\"\"\n",
    "        Constructor, accepting the initial value to track, and the minimum.\n",
    "        \"\"\"\n",
    "        super().__init__(start)   # Invocamos el constructor de Sumador\n",
    "        self.minimum = minimum\n",
    "        \n",
    "    def __str__(self):       # Método modificado\n",
    "        return f'Medidor, min: {self.minimum}, val: {self.val}'\n",
    "        \n",
    "    def sub(self, amount):   # Nuevo método\n",
    "        \"\"\"\n",
    "        Substracts the specified 'amount' from tracked value\n",
    "        \"\"\"\n",
    "        self.val = max(self.minimum, self.val - amount)\n",
    "        \n",
    "m1 = Medidor(10, 5)\n",
    "print(m1)\n",
    "\n",
    "m1.add(2)\n",
    "print(m1)\n",
    "\n",
    "m1.sub(5)\n",
    "print(m1)\n",
    "\n",
    "m1.sub(5)\n",
    "print(m1)"
   ]
  },
  {
   "cell_type": "code",
   "execution_count": null,
   "metadata": {},
   "outputs": [],
   "source": [
    "print(f\"Tipo de s1: {type(s1)}; tipo de m1: {type(m1)}\")\n",
    "print(isinstance(m1, Medidor), isinstance(m1, Sumador))\n",
    "print(hasattr(s1, 'sub'), hasattr(m1, 'sub'))"
   ]
  },
  {
   "cell_type": "markdown",
   "metadata": {},
   "source": [
    "## Polimorfismo\n",
    "\n",
    "Un objeto puede servir diferentes roles, y una operación puede aceptar diferentes objetos.\n",
    "\n",
    "- En algunos lenguajes el polimorfismo en O.O.P. va ligado a la herencia:\n",
    "\n",
    "```java\n",
    "funcion(Figura fig) {\n",
    "   // Acepta Figura, Cuadro y Circulo\n",
    "   fig.draw()\n",
    "}\n",
    "```\n",
    "\n",
    "![polim_1](images/t7_polim_1.png)\n",
    "\n",
    "\n",
    "- En python va implícito en el tipado dinámico\n",
    "\n",
    "```python\n",
    "def funcion(fig): # Acepta cualquier cosa \n",
    "    fig.draw()     # que implemente draw()\n",
    "```\n",
    "\n",
    "![polim_2](images/t7_polim_2.png)\n"
   ]
  },
  {
   "cell_type": "markdown",
   "metadata": {},
   "source": [
    "<br/>\n",
    "\n",
    "<div style=\"background-color:powderblue;\">\n",
    "\n",
    "**EJERCICIO e7_2:** \n",
    "\n",
    "Ampliar la clase Grafo en una clase que herede de ella: `GrafoDict`\n",
    "    \n",
    "Posibilitar acceso directo a los nodos con la siguiente notación:\n",
    "\n",
    "```python    \n",
    "g = GrafoDict(…)\n",
    "g['C'] = ['B', 'E']\n",
    "print(g['C'])\n",
    "```\n",
    "    \n",
    "Para ello, añadir los métodos especiales `__getitem__(self, node)`, y `__setitem__(self, node, val)`, a la implementación del ejercicio e7_1.\n"
   ]
  },
  {
   "cell_type": "markdown",
   "metadata": {},
   "source": [
    "<br/>\n",
    "\n",
    "<div style=\"background-color:powderblue;\">\n",
    "\n",
    "**EJERCICIO e7_3:** \n",
    "\n",
    "Reescribir la clase anterior, como una nueva `DictGrafo`, que herede de `dict`, ampliándola con los métodos propios `path` y `draw`.\n"
   ]
  },
  {
   "cell_type": "markdown",
   "metadata": {},
   "source": [
    "## Las clases también son objetos\n",
    "\n",
    "Al igual que sucede con las funciones, podemos usar las clases mismas como objetos: asignarlos a una variable, pasarlas como argumento a una función, etc."
   ]
  },
  {
   "cell_type": "code",
   "execution_count": null,
   "metadata": {},
   "outputs": [],
   "source": [
    "def objectFactory(clase, args):\n",
    "    return clase(*args)\n",
    "\n",
    "var = Medidor\n",
    "m2 = objectFactory(Medidor, (10, 0))\n",
    "\n",
    "print(m2)"
   ]
  },
  {
   "cell_type": "code",
   "execution_count": null,
   "metadata": {},
   "outputs": [],
   "source": [
    "help(var)"
   ]
  },
  {
   "cell_type": "markdown",
   "metadata": {},
   "source": [
    "<br/>\n",
    "\n",
    "<div style=\"background-color:powderblue;\">\n",
    "\n",
    "**EJERCICIO e7_4:** Probar las implementaciones realizadas de `Grafo`, `GrafoDict` y `DictGrafo`.\n",
    "\n",
    "Para ello, hacer lo siguiente:\n",
    "  \n",
    "- Crear un módulo `grafos.py`, en la carpeta raíz, con el código correspondiente a las 3 clases.\n",
    "    \n",
    "- Abrir `ejemplos/test_grafos.py`, que contiene los tests a realizar, y pensar cuántos se realizarán, y cuál es el resultado esperado para cada uno.\n",
    "    \n",
    "- Ejecutar `!pytest` \n",
    "  - Nota: En Google Colab, quizás se requiera: `!python $(which pytest)`, y en Azure: `!py.test`\n",
    "  - Alternativament, lanzar una terminal, y ejecutar: `pytest` (o las otras formas del comando)\n",
    "    "
   ]
  }
 ],
 "metadata": {
  "kernelspec": {
   "display_name": "Python 3",
   "language": "python",
   "name": "python3"
  },
  "language_info": {
   "codemirror_mode": {
    "name": "ipython",
    "version": 3
   },
   "file_extension": ".py",
   "mimetype": "text/x-python",
   "name": "python",
   "nbconvert_exporter": "python",
   "pygments_lexer": "ipython3",
   "version": "3.8.2"
  }
 },
 "nbformat": 4,
 "nbformat_minor": 4
}
