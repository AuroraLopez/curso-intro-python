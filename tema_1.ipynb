{
 "cells": [
  {
   "cell_type": "markdown",
   "metadata": {
    "slideshow": {
     "slide_type": "slide"
    }
   },
   "source": [
    "<font size=6>\n",
    "\n",
    "<b>Curso de Introducción a la Programación en Python</b>\n",
    "</font>\n",
    "\n",
    "<font size=4>\n",
    "    \n",
    "Curso de formación interna, CIEMAT \n",
    "Junio, 2020\n",
    "\n",
    "Antonio Delgado Peris\n",
    "</font>\n",
    "\n",
    "some url.. \n",
    "\n",
    "<br/>\n",
    "<br/>"
   ]
  },
  {
   "cell_type": "markdown",
   "metadata": {},
   "source": [
    "# Tema 1 - Introducción y Generalidades"
   ]
  },
  {
   "cell_type": "markdown",
   "metadata": {},
   "source": [
    "## Objetivos del curso\n",
    "\n",
    "- Aprender a escribir programas en python\n",
    "\n",
    "\n",
    "- Acercarse a las ventajas del desarrollo incremental\n",
    "\n",
    "  - Huir de los largos ciclos de edición - compilación – depuración. \n",
    "  - Probar cada pequeño cambio\n",
    "  \n",
    "  \n",
    "- Ventajas de programación de alto nivel\n",
    "\n",
    "  - Introspección, dinamismo\n",
    "  - Concentrarse en el problema, no en el código\n",
    "  - Desarrollo rápido de software\n",
    "  \n",
    "  \n",
    "- Ventajas del código \"para humanos\"\n",
    "\n",
    "  - Legible, mantenible, reutilizable"
   ]
  },
  {
   "cell_type": "markdown",
   "metadata": {},
   "source": [
    "## Características de python\n",
    "\n",
    "- Lenguaje interpretado (no compilado)\n",
    "\n",
    "  - Portable: soportado en multiples plataformas\n",
    "  - Más lento que C/C++ (pero existen opciones)\n",
    "  \n",
    "\n",
    "- Adecuado para desarrollo incremental\n",
    "\n",
    "  - Intérprete interactivo y Jupyter notebooks\n",
    "  - Capacidades de introspección\n",
    "  - Tipos dinámicos\n",
    "  \n",
    "  \n",
    "- Lenguaje muy versátil\n",
    "\n",
    "  - Desarrollos rápidos (prototipos, scripts)\n",
    "    - Tipos dinámicos, rica librería estándar, sintaxis intuitiva... \n",
    "  - Herramienta de control / integración (pegamento)\n",
    "    - Interfaces con código C o Java, ejecutables\n",
    "  - Desarrollos complejos (GUIs, DBs, webs, cálculo científico)\n",
    "  - Orientación a objetos, excepciones, generadores...\n",
    "  \n",
    "  \n",
    "- Uso muy extendido\n",
    "\n",
    "  - Seguramente el más usado en entornos científicos\n",
    "  - Cualquier nuevo proyecto ofrece _python bindings/API_\n",
    "  \n",
    "  \n",
    "- Rinde homenaje a los Monty Python!"
   ]
  },
  {
   "cell_type": "markdown",
   "metadata": {},
   "source": [
    "## Modelo de ejecución\n",
    "\n",
    "- Python compila el código fuente a bytecodes\n",
    "\n",
    "  - Almacenados como ficheros .pyc para reutilización\n",
    "  \n",
    "  \n",
    "- Python Virtual Machine (PVM): ejecuta los bytecodes\n",
    "\n",
    "<img src=\"images/modelo_ejecucion.png\" width=\"500\">\n",
    "\n",
    "\n",
    "- Otras posibilidades (_esotéricas_)\n",
    "\n",
    "  - Traductores a C++, Jython, py2exe, JITs…\n"
   ]
  },
  {
   "cell_type": "code",
   "execution_count": null,
   "metadata": {},
   "outputs": [],
   "source": []
  }
 ],
 "metadata": {
  "kernelspec": {
   "display_name": "Python 3",
   "language": "python",
   "name": "python3"
  },
  "language_info": {
   "codemirror_mode": {
    "name": "ipython",
    "version": 3
   },
   "file_extension": ".py",
   "mimetype": "text/x-python",
   "name": "python",
   "nbconvert_exporter": "python",
   "pygments_lexer": "ipython3",
   "version": "3.8.2"
  },
  "title": "Curso de Introducción a la Programación en Python",
  "toc-autonumbering": false,
  "toc-showcode": false,
  "toc-showtags": true
 },
 "nbformat": 4,
 "nbformat_minor": 4
}
