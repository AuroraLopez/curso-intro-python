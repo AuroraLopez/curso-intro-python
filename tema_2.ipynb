{
 "cells": [
  {
   "cell_type": "markdown",
   "metadata": {
    "slideshow": {
     "slide_type": "slide"
    }
   },
   "source": [
    "<font size=6>\n",
    "\n",
    "<b>Curso de Introducción a la Programación en Python</b>\n",
    "</font>\n",
    "\n",
    "<font size=4>\n",
    "    \n",
    "Curso de formación interna, CIEMAT \n",
    "Junio, 2020\n",
    "\n",
    "Antonio Delgado Peris\n",
    "</font>\n",
    "\n",
    "some url.. \n",
    "\n",
    "<br/>\n",
    "<br/>"
   ]
  },
  {
   "cell_type": "markdown",
   "metadata": {},
   "source": [
    "# Tema 2 - Sentencias, objetos, tipos y variables"
   ]
  },
  {
   "cell_type": "markdown",
   "metadata": {},
   "source": [
    "## Objetivos\n",
    "\n",
    "- Conocer cómo funcionan los objetos y las variables en python\n",
    "\n",
    "\n",
    "- Introducir las expresions y sentencias en Python\n",
    "  \n",
    "  - Conocer la sentencia de asignación `=`\n",
    "  - Conocer la sentencia de control de flujo `if`\n",
    "  \n",
    "  \n",
    "- Introducir los tipos de datos incorporados en python\n",
    "\n",
    "  - Muchos problemas pueden resolverse con ellos, sin necesidad de crear nuevas _clases_\n",
    "  - Conocer los tipos numéricos, los _boolean_, y el valor `None`"
   ]
  },
  {
   "cell_type": "markdown",
   "metadata": {},
   "source": [
    "## Objetos de datos y atributos\n",
    "\n",
    "En python cualquier dato es un objeto:\n",
    "    \n",
    "- Números, listas, funciones, clases...\n",
    "\n",
    "Los objetos tienen atributos (miembros):\n",
    "\n",
    "- Datos\n",
    "\n",
    "  - Información útil para el objeto\n",
    "  \n",
    "    \n",
    "- Métodos (funciones)\n",
    "\n",
    "  - Operaciones sobre el propio objeto\n",
    "  \n",
    "<img src=\"images/t1_objeto.png\" width=120>\n",
    "  \n",
    "    \n",
    "Los atributos son accesibles con la notación `objeto.atributo`\n",
    "\n",
    "\n",
    "Existen dos modos de que un objeto sea usado en una función:"
   ]
  },
  {
   "cell_type": "markdown",
   "metadata": {},
   "source": [
    "- Pasándolo como argumento explícito:"
   ]
  },
  {
   "cell_type": "code",
   "execution_count": 7,
   "metadata": {},
   "outputs": [
    {
     "data": {
      "text/plain": [
       "3"
      ]
     },
     "execution_count": 7,
     "metadata": {},
     "output_type": "execute_result"
    }
   ],
   "source": [
    "a = -3\n",
    "abs(a)"
   ]
  },
  {
   "cell_type": "markdown",
   "metadata": {},
   "source": [
    "- Llamando a uno de sus métodos:"
   ]
  },
  {
   "cell_type": "code",
   "execution_count": 5,
   "metadata": {},
   "outputs": [
    {
     "data": {
      "text/plain": [
       "'EXAMPLE'"
      ]
     },
     "execution_count": 5,
     "metadata": {},
     "output_type": "execute_result"
    }
   ],
   "source": [
    "a = 'example'\n",
    "a.upper()"
   ]
  },
  {
   "cell_type": "markdown",
   "metadata": {},
   "source": [
    "Otro ejemplo de objeto:\n",
    "\n",
    "- `1 + 3j` es un número complejo, que tiene atributos métodos y dato\n",
    "\n",
    "<img src=\"images/t1_complex.png\" width=120>"
   ]
  },
  {
   "cell_type": "code",
   "execution_count": 13,
   "metadata": {},
   "outputs": [
    {
     "data": {
      "text/plain": [
       "3.0"
      ]
     },
     "execution_count": 13,
     "metadata": {},
     "output_type": "execute_result"
    }
   ],
   "source": [
    "a = 1 + 3j       # objeto\n",
    "a.imag           # atributo dato"
   ]
  },
  {
   "cell_type": "code",
   "execution_count": 12,
   "metadata": {},
   "outputs": [
    {
     "data": {
      "text/plain": [
       "(1-3j)"
      ]
     },
     "execution_count": 12,
     "metadata": {},
     "output_type": "execute_result"
    }
   ],
   "source": [
    "a.conjugate()    # atributo método"
   ]
  },
  {
   "cell_type": "markdown",
   "metadata": {},
   "source": [
    "Podemos inspeccionar los atributos de un objeto de varias maneras:\n",
    "- Funciones de introspección: `dir`, `help`\n",
    "- Ayudas del interpréte/IDE/entorno: `TAB`, `SHIFT+TAB`, `magic ?`\n",
    "- Documentación"
   ]
  },
  {
   "cell_type": "code",
   "execution_count": 14,
   "metadata": {
    "collapsed": true,
    "jupyter": {
     "outputs_hidden": true
    }
   },
   "outputs": [
    {
     "data": {
      "text/plain": [
       "['__abs__',\n",
       " '__add__',\n",
       " '__bool__',\n",
       " '__class__',\n",
       " '__delattr__',\n",
       " '__dir__',\n",
       " '__divmod__',\n",
       " '__doc__',\n",
       " '__eq__',\n",
       " '__float__',\n",
       " '__floordiv__',\n",
       " '__format__',\n",
       " '__ge__',\n",
       " '__getattribute__',\n",
       " '__getnewargs__',\n",
       " '__gt__',\n",
       " '__hash__',\n",
       " '__init__',\n",
       " '__init_subclass__',\n",
       " '__int__',\n",
       " '__le__',\n",
       " '__lt__',\n",
       " '__mod__',\n",
       " '__mul__',\n",
       " '__ne__',\n",
       " '__neg__',\n",
       " '__new__',\n",
       " '__pos__',\n",
       " '__pow__',\n",
       " '__radd__',\n",
       " '__rdivmod__',\n",
       " '__reduce__',\n",
       " '__reduce_ex__',\n",
       " '__repr__',\n",
       " '__rfloordiv__',\n",
       " '__rmod__',\n",
       " '__rmul__',\n",
       " '__rpow__',\n",
       " '__rsub__',\n",
       " '__rtruediv__',\n",
       " '__setattr__',\n",
       " '__sizeof__',\n",
       " '__str__',\n",
       " '__sub__',\n",
       " '__subclasshook__',\n",
       " '__truediv__',\n",
       " 'conjugate',\n",
       " 'imag',\n",
       " 'real']"
      ]
     },
     "execution_count": 14,
     "metadata": {},
     "output_type": "execute_result"
    }
   ],
   "source": [
    "dir(a)"
   ]
  },
  {
   "cell_type": "code",
   "execution_count": 15,
   "metadata": {
    "collapsed": true,
    "jupyter": {
     "outputs_hidden": true
    }
   },
   "outputs": [
    {
     "name": "stdout",
     "output_type": "stream",
     "text": [
      "Help on complex object:\n",
      "\n",
      "class complex(object)\n",
      " |  complex(real=0, imag=0)\n",
      " |  \n",
      " |  Create a complex number from a real part and an optional imaginary part.\n",
      " |  \n",
      " |  This is equivalent to (real + imag*1j) where imag defaults to 0.\n",
      " |  \n",
      " |  Methods defined here:\n",
      " |  \n",
      " |  __abs__(self, /)\n",
      " |      abs(self)\n",
      " |  \n",
      " |  __add__(self, value, /)\n",
      " |      Return self+value.\n",
      " |  \n",
      " |  __bool__(self, /)\n",
      " |      self != 0\n",
      " |  \n",
      " |  __divmod__(self, value, /)\n",
      " |      Return divmod(self, value).\n",
      " |  \n",
      " |  __eq__(self, value, /)\n",
      " |      Return self==value.\n",
      " |  \n",
      " |  __float__(self, /)\n",
      " |      float(self)\n",
      " |  \n",
      " |  __floordiv__(self, value, /)\n",
      " |      Return self//value.\n",
      " |  \n",
      " |  __format__(...)\n",
      " |      complex.__format__() -> str\n",
      " |      \n",
      " |      Convert to a string according to format_spec.\n",
      " |  \n",
      " |  __ge__(self, value, /)\n",
      " |      Return self>=value.\n",
      " |  \n",
      " |  __getattribute__(self, name, /)\n",
      " |      Return getattr(self, name).\n",
      " |  \n",
      " |  __getnewargs__(...)\n",
      " |  \n",
      " |  __gt__(self, value, /)\n",
      " |      Return self>value.\n",
      " |  \n",
      " |  __hash__(self, /)\n",
      " |      Return hash(self).\n",
      " |  \n",
      " |  __int__(self, /)\n",
      " |      int(self)\n",
      " |  \n",
      " |  __le__(self, value, /)\n",
      " |      Return self<=value.\n",
      " |  \n",
      " |  __lt__(self, value, /)\n",
      " |      Return self<value.\n",
      " |  \n",
      " |  __mod__(self, value, /)\n",
      " |      Return self%value.\n",
      " |  \n",
      " |  __mul__(self, value, /)\n",
      " |      Return self*value.\n",
      " |  \n",
      " |  __ne__(self, value, /)\n",
      " |      Return self!=value.\n",
      " |  \n",
      " |  __neg__(self, /)\n",
      " |      -self\n",
      " |  \n",
      " |  __pos__(self, /)\n",
      " |      +self\n",
      " |  \n",
      " |  __pow__(self, value, mod=None, /)\n",
      " |      Return pow(self, value, mod).\n",
      " |  \n",
      " |  __radd__(self, value, /)\n",
      " |      Return value+self.\n",
      " |  \n",
      " |  __rdivmod__(self, value, /)\n",
      " |      Return divmod(value, self).\n",
      " |  \n",
      " |  __repr__(self, /)\n",
      " |      Return repr(self).\n",
      " |  \n",
      " |  __rfloordiv__(self, value, /)\n",
      " |      Return value//self.\n",
      " |  \n",
      " |  __rmod__(self, value, /)\n",
      " |      Return value%self.\n",
      " |  \n",
      " |  __rmul__(self, value, /)\n",
      " |      Return value*self.\n",
      " |  \n",
      " |  __rpow__(self, value, mod=None, /)\n",
      " |      Return pow(value, self, mod).\n",
      " |  \n",
      " |  __rsub__(self, value, /)\n",
      " |      Return value-self.\n",
      " |  \n",
      " |  __rtruediv__(self, value, /)\n",
      " |      Return value/self.\n",
      " |  \n",
      " |  __sub__(self, value, /)\n",
      " |      Return self-value.\n",
      " |  \n",
      " |  __truediv__(self, value, /)\n",
      " |      Return self/value.\n",
      " |  \n",
      " |  conjugate(...)\n",
      " |      complex.conjugate() -> complex\n",
      " |      \n",
      " |      Return the complex conjugate of its argument. (3-4j).conjugate() == 3+4j.\n",
      " |  \n",
      " |  ----------------------------------------------------------------------\n",
      " |  Static methods defined here:\n",
      " |  \n",
      " |  __new__(*args, **kwargs) from builtins.type\n",
      " |      Create and return a new object.  See help(type) for accurate signature.\n",
      " |  \n",
      " |  ----------------------------------------------------------------------\n",
      " |  Data descriptors defined here:\n",
      " |  \n",
      " |  imag\n",
      " |      the imaginary part of a complex number\n",
      " |  \n",
      " |  real\n",
      " |      the real part of a complex number\n",
      "\n"
     ]
    }
   ],
   "source": [
    "help(a)"
   ]
  },
  {
   "cell_type": "code",
   "execution_count": 22,
   "metadata": {
    "collapsed": true,
    "jupyter": {
     "outputs_hidden": true
    }
   },
   "outputs": [
    {
     "data": {
      "text/plain": [
       "\u001b[0;31mType:\u001b[0m        complex\n",
       "\u001b[0;31mString form:\u001b[0m (1+3j)\n",
       "\u001b[0;31mDocstring:\u001b[0m  \n",
       "Create a complex number from a real part and an optional imaginary part.\n",
       "\n",
       "This is equivalent to (real + imag*1j) where imag defaults to 0.\n"
      ]
     },
     "metadata": {},
     "output_type": "display_data"
    }
   ],
   "source": [
    "a?"
   ]
  },
  {
   "cell_type": "markdown",
   "metadata": {},
   "source": [
    "<div style=\"background-color:powderblue;\">\n",
    "\n",
    "**EJERCICIO e2_1**: Crear una nueva celda de código, escribir `a.`, y después probar `TAB`, y `SHIFT+TAB`."
   ]
  },
  {
   "cell_type": "markdown",
   "metadata": {},
   "source": [
    "## Tipos y variables\n",
    "\n",
    "Todo objeto de datos tiene un tipo asociado."
   ]
  },
  {
   "cell_type": "code",
   "execution_count": 26,
   "metadata": {},
   "outputs": [
    {
     "data": {
      "text/plain": [
       "int"
      ]
     },
     "execution_count": 26,
     "metadata": {},
     "output_type": "execute_result"
    }
   ],
   "source": [
    "type(3)"
   ]
  },
  {
   "cell_type": "code",
   "execution_count": 27,
   "metadata": {},
   "outputs": [
    {
     "data": {
      "text/plain": [
       "str"
      ]
     },
     "execution_count": 27,
     "metadata": {},
     "output_type": "execute_result"
    }
   ],
   "source": [
    "type('3')"
   ]
  },
  {
   "cell_type": "markdown",
   "metadata": {},
   "source": [
    "- En general, no hay conversión de tipos automático (solo en casos concretos)."
   ]
  },
  {
   "cell_type": "code",
   "execution_count": 28,
   "metadata": {},
   "outputs": [
    {
     "ename": "TypeError",
     "evalue": "unsupported operand type(s) for +: 'int' and 'str'",
     "output_type": "error",
     "traceback": [
      "\u001b[0;31m---------------------------------------------------------------------------\u001b[0m",
      "\u001b[0;31mTypeError\u001b[0m                                 Traceback (most recent call last)",
      "\u001b[0;32m<ipython-input-28-4ab8cd832a54>\u001b[0m in \u001b[0;36m<module>\u001b[0;34m\u001b[0m\n\u001b[0;32m----> 1\u001b[0;31m \u001b[0;36m3\u001b[0m \u001b[0;34m+\u001b[0m \u001b[0;34m'3'\u001b[0m\u001b[0;34m\u001b[0m\u001b[0;34m\u001b[0m\u001b[0m\n\u001b[0m",
      "\u001b[0;31mTypeError\u001b[0m: unsupported operand type(s) for +: 'int' and 'str'"
     ]
    }
   ],
   "source": [
    "3 + '3'"
   ]
  },
  {
   "cell_type": "markdown",
   "metadata": {},
   "source": [
    "- Los operadores varían de función según el tipo de datos sobre el que actúan."
   ]
  },
  {
   "cell_type": "code",
   "execution_count": 29,
   "metadata": {},
   "outputs": [
    {
     "data": {
      "text/plain": [
       "6"
      ]
     },
     "execution_count": 29,
     "metadata": {},
     "output_type": "execute_result"
    }
   ],
   "source": [
    "3 + int('3')"
   ]
  },
  {
   "cell_type": "code",
   "execution_count": 31,
   "metadata": {},
   "outputs": [
    {
     "data": {
      "text/plain": [
       "'33'"
      ]
     },
     "execution_count": 31,
     "metadata": {},
     "output_type": "execute_result"
    }
   ],
   "source": [
    "str(3) + '3'"
   ]
  },
  {
   "cell_type": "markdown",
   "metadata": {},
   "source": [
    "Una variable _referencia_ un objeto de datos\n",
    "- Cuando se usa una variable, se usa el objeto referenciado"
   ]
  },
  {
   "cell_type": "code",
   "execution_count": 33,
   "metadata": {},
   "outputs": [
    {
     "data": {
      "text/plain": [
       "5"
      ]
     },
     "execution_count": 33,
     "metadata": {},
     "output_type": "execute_result"
    }
   ],
   "source": [
    "a = 3\n",
    "a + 2"
   ]
  },
  {
   "cell_type": "markdown",
   "metadata": {},
   "source": [
    "- Las variables NO tienen un tipo asociado\n",
    "  - No se declaran (no se les asigna un tipo)\n",
    "  - _Parecen_ tener el tipo del objeto al que referencian\n",
    "  \n",
    "Ejemplo:\n",
    "\n",
    "<img src=\"images/t1_var_types_1.png\" width=120>"
   ]
  },
  {
   "cell_type": "code",
   "execution_count": 34,
   "metadata": {},
   "outputs": [
    {
     "ename": "TypeError",
     "evalue": "unsupported operand type(s) for +: 'int' and 'str'",
     "output_type": "error",
     "traceback": [
      "\u001b[0;31m---------------------------------------------------------------------------\u001b[0m",
      "\u001b[0;31mTypeError\u001b[0m                                 Traceback (most recent call last)",
      "\u001b[0;32m<ipython-input-34-d4f98ad1d0ce>\u001b[0m in \u001b[0;36m<module>\u001b[0;34m\u001b[0m\n\u001b[1;32m      1\u001b[0m \u001b[0ma\u001b[0m \u001b[0;34m=\u001b[0m \u001b[0;36m2\u001b[0m\u001b[0;34m\u001b[0m\u001b[0;34m\u001b[0m\u001b[0m\n\u001b[0;32m----> 2\u001b[0;31m \u001b[0ma\u001b[0m \u001b[0;34m+\u001b[0m \u001b[0;34m'3'\u001b[0m\u001b[0;34m\u001b[0m\u001b[0;34m\u001b[0m\u001b[0m\n\u001b[0m",
      "\u001b[0;31mTypeError\u001b[0m: unsupported operand type(s) for +: 'int' and 'str'"
     ]
    }
   ],
   "source": [
    "a = 2\n",
    "a + '3'"
   ]
  },
  {
   "cell_type": "markdown",
   "metadata": {},
   "source": [
    "Ahora cambiamos el objeto al que apunta `a` (la _misma_ variable)\n",
    "\n",
    "<img src=\"images/t1_var_types_2.png\" width=120>"
   ]
  },
  {
   "cell_type": "code",
   "execution_count": 36,
   "metadata": {},
   "outputs": [
    {
     "data": {
      "text/plain": [
       "'23'"
      ]
     },
     "execution_count": 36,
     "metadata": {},
     "output_type": "execute_result"
    }
   ],
   "source": [
    "a = '2'\n",
    "a + '3'"
   ]
  },
  {
   "cell_type": "markdown",
   "metadata": {},
   "source": [
    "## Expresiones y sentencias\n",
    "\n",
    "Una expresión es una porción de código que se evalúa a un valor.\n",
    "\n",
    " - Una expresión simple es una constante (numérica o string), o una variable: `3`, `'a'`, `var`\n",
    " - Las expresiones se relacionan por medio de operadores, creando expresiones más complejas: `3 + 2`,  `['a', 'b']`, `mi_funcion(var)`\n",
    " \n",
    "Una sentencia es una instrucción que python puede interpretar (ejecutar)\n",
    "\n",
    "- Las expresiones forman parte de sentencias\n",
    "- Existen sentencias simples y compuestas (involucrando varias sentencias simples)"
   ]
  },
  {
   "cell_type": "markdown",
   "metadata": {},
   "source": [
    "### La asignación\n",
    "\n",
    "La _asignación_ es una sentencia simple:\n",
    "\n",
    "  - Enlazan (_bind_) una variable con un valor, o bien modifican una variable (modificable)\n",
    "  - Forma: `variable = expresión`\n",
    "  - La variable _apuntará_ al resultado de evaluar la expresión"
   ]
  },
  {
   "cell_type": "code",
   "execution_count": 190,
   "metadata": {},
   "outputs": [
    {
     "name": "stdout",
     "output_type": "stream",
     "text": [
      "7\n"
     ]
    }
   ],
   "source": [
    "x = 3 + 4\n",
    "print(x)"
   ]
  },
  {
   "cell_type": "markdown",
   "metadata": {},
   "source": [
    "### La sentencia IF\n",
    "\n",
    "Es una sentencia compuesta de control de flujo; es decir, para ejecutar unas instrucciones, u otras, en función de alguna condición.\n",
    "\n",
    "Su forma más básica es:\n",
    "\n",
    "    if <condicion>:  do something\n",
    "\n",
    "O, para varias instrucciones:\n",
    "\n",
    "    if <condicion>:\n",
    "        do something\n",
    "        do another thing\n",
    "        ...\n",
    "\n",
    "Más generalmente, para especificar alternativas:\n",
    "\n",
    "    if <condicion>:\n",
    "        do something\n",
    "        \n",
    "    elif <otra condicion>:\n",
    "        do something else  \n",
    "    ...\n",
    "    \n",
    "    else:\n",
    "        do this if nothing above matched"
   ]
  },
  {
   "cell_type": "code",
   "execution_count": 191,
   "metadata": {},
   "outputs": [
    {
     "name": "stdout",
     "output_type": "stream",
     "text": [
      "No! 2 no es 3\n"
     ]
    }
   ],
   "source": [
    "if 2 == 3:\n",
    "    print('2 es 3')\n",
    "else:\n",
    "    print('No! 2 no es 3')"
   ]
  },
  {
   "cell_type": "markdown",
   "metadata": {},
   "source": [
    "## Tipos de datos incorporados (_built-in_)\n",
    "\n",
    "Son tipos de datos disponibles de inicio\n",
    "\n",
    "- Suelen ser más eficientes que los definidos por los usuarios\n",
    "- Extensibles (por nuevas _clases_)\n",
    "\n",
    "Estos tipos son (entre otros):\n",
    "\n",
    "- Números: `int`, `float`, `complex`\n",
    "- Booleans: `False`, `True`\n",
    "- Nulo: `None`\n",
    "- Strings (`str`): `\"abcdef\"`\n",
    "- Secuencias (listas, tuplas, sets...): `[0, 'a', 2]`\n",
    "- Diccionarios (mapas): `{‘a’: 1, ‘b’: 3}`\n",
    "- Otros: secuencias binarias (_bytes_), ficheros, clases, módulos, funciones, tipos..."
   ]
  },
  {
   "cell_type": "markdown",
   "metadata": {},
   "source": [
    "### Números\n",
    "\n",
    "Funcionan como en otros lenguajes\n",
    "\n",
    "- Enteros: `int`\n",
    "- Decimal: `float`\n",
    "- Complejos: `complex`"
   ]
  },
  {
   "cell_type": "code",
   "execution_count": 192,
   "metadata": {},
   "outputs": [
    {
     "name": "stdout",
     "output_type": "stream",
     "text": [
      "<class 'int'>\n",
      "<class 'float'>\n",
      "<class 'complex'>\n"
     ]
    }
   ],
   "source": [
    "print(type(3))\n",
    "print(type(2.0))\n",
    "print(type(2+5j))"
   ]
  },
  {
   "cell_type": "markdown",
   "metadata": {},
   "source": [
    "<div style=\"background-color:powderblue;\">\n",
    "\n",
    "**EJERCICIO e2_2**: Inspeccionar las operaciones soportadas por el tipo `complex`. Crear un objeto complejo y mostrar su parte imaginaria."
   ]
  },
  {
   "cell_type": "code",
   "execution_count": null,
   "metadata": {},
   "outputs": [],
   "source": [
    "#"
   ]
  },
  {
   "cell_type": "markdown",
   "metadata": {},
   "source": [
    "Entre ellos sí hay conversión automática de tipos"
   ]
  },
  {
   "cell_type": "code",
   "execution_count": 41,
   "metadata": {},
   "outputs": [
    {
     "data": {
      "text/plain": [
       "5.5"
      ]
     },
     "execution_count": 41,
     "metadata": {},
     "output_type": "execute_result"
    }
   ],
   "source": [
    "a = 2\n",
    "b = 3.5\n",
    "a + b"
   ]
  },
  {
   "cell_type": "markdown",
   "metadata": {},
   "source": [
    "Soportan las operaciones habituales:\n",
    "\n",
    "- Entre otras: `+   -  *  /  %  abs()  **  //`"
   ]
  },
  {
   "cell_type": "code",
   "execution_count": 49,
   "metadata": {},
   "outputs": [
    {
     "name": "stdout",
     "output_type": "stream",
     "text": [
      " a / b --> 2.5\n",
      "a // b --> 2\n",
      " a % b --> 1\n"
     ]
    }
   ],
   "source": [
    "a = 5\n",
    "b = 2\n",
    "print(' a / b -->', a/b)\n",
    "print('a // b -->', a//b)\n",
    "print(' a % b -->', a%b)"
   ]
  },
  {
   "cell_type": "markdown",
   "metadata": {},
   "source": [
    "Otros módulos ofrecen muchas más..."
   ]
  },
  {
   "cell_type": "code",
   "execution_count": 42,
   "metadata": {},
   "outputs": [
    {
     "data": {
      "text/plain": [
       "20.085536923187668"
      ]
     },
     "execution_count": 42,
     "metadata": {},
     "output_type": "execute_result"
    }
   ],
   "source": [
    "import math\n",
    "math.exp(3)"
   ]
  },
  {
   "cell_type": "markdown",
   "metadata": {},
   "source": [
    "### Booleans y None\n",
    "\n",
    "Los `booleans` solo incluyen a dos valores: las contantes predefinidas: `True` y `False`.\n",
    "\n",
    "Estos dos valores pueden ser el resultado de evaluar:\n",
    "    \n",
    "- Las propias contantes en un programa: `True` y `False`\n",
    "- Una operación lógica: `or`, `and`, `not`\n",
    "- Una comparación: `<`, `<=`, `>`, `>=`, `==`, `!=`, `is`, `is not`\n",
    "- Evaluación de cualquier objeto python\n",
    "  - Por defecto, la evaluación es a `True`\n",
    "  - Excepto: `False`, `None`, `0`, secuencias vacías, objetos con un método especial `__bool__` que devuelva `False`"
   ]
  },
  {
   "cell_type": "code",
   "execution_count": 89,
   "metadata": {},
   "outputs": [
    {
     "name": "stdout",
     "output_type": "stream",
     "text": [
      "True \t-->  Verdadero\n",
      "False \t-->  Falso\n",
      "None \t-->  Falso\n"
     ]
    }
   ],
   "source": [
    "if True:  print(True, '\\t-->  Verdadero')\n",
    "else:     print(True, '\\t-->  Falso')\n",
    "    \n",
    "if False: print(False, '\\t-->  Verdadero')\n",
    "else:     print(False, '\\t-->  Falso')\n",
    "    \n",
    "if None:  print(None, '\\t-->  Verdadero')\n",
    "else:     print(None, '\\t-->  Falso')"
   ]
  },
  {
   "cell_type": "code",
   "execution_count": 101,
   "metadata": {},
   "outputs": [
    {
     "name": "stdout",
     "output_type": "stream",
     "text": [
      "5 \t-->  Verdadero\n",
      "0 \t-->  Falso\n"
     ]
    }
   ],
   "source": [
    "if 5:  print(5, '\\t-->  Verdadero')\n",
    "else:  print(5, '\\t-->  Falso')\n",
    "    \n",
    "if 0:  print(0, '\\t-->  Verdadero')\n",
    "else:  print(0, '\\t-->  Falso')"
   ]
  },
  {
   "cell_type": "markdown",
   "metadata": {},
   "source": [
    "<div style=\"background-color:powderblue;\">\n",
    "\n",
    "**EJERCICIO e2_3:** Probar lo mismo con `'a'` y `''` (suponiendo antes qué va a pasar)"
   ]
  },
  {
   "cell_type": "code",
   "execution_count": 102,
   "metadata": {},
   "outputs": [
    {
     "name": "stdout",
     "output_type": "stream",
     "text": [
      "[4, 6] \t-->  Verdadero\n",
      "[] \t-->  Falso\n"
     ]
    }
   ],
   "source": [
    "if [4, 6]: print([4, 6], '\\t-->  Verdadero')\n",
    "else:      print([0], '\\t-->  Falso')\n",
    "    \n",
    "if []:  print([], '\\t-->  Verdadero')\n",
    "else:   print([], '\\t-->  Falso')"
   ]
  },
  {
   "cell_type": "markdown",
   "metadata": {},
   "source": [
    "<div style=\"background-color:powderblue;\">\n",
    "\n",
    "**EJERCICIO e2_4:** Probar lo mismo con `[0]`  (suponiendo antes qué va a pasar)"
   ]
  },
  {
   "cell_type": "code",
   "execution_count": 107,
   "metadata": {},
   "outputs": [
    {
     "name": "stdout",
     "output_type": "stream",
     "text": [
      "4==4 \t-->  Verdadero\n",
      "4==5 \t-->  Falso\n"
     ]
    }
   ],
   "source": [
    "if 4 == 4: print('4==4', '\\t-->  Verdadero')\n",
    "else:      print('4==4', '\\t-->  Falso')\n",
    "    \n",
    "if 4 == 5: print('4==5', '\\t-->  Verdadero')\n",
    "else:      print('4==5', '\\t-->  Falso')"
   ]
  },
  {
   "cell_type": "markdown",
   "metadata": {},
   "source": [
    "<div style=\"background-color:powderblue;\">\n",
    "\n",
    "**EJERCICIO e2_5:** Probar lo mismo con `4 != 5`, `3 < 2`, `2 >= 2`"
   ]
  },
  {
   "cell_type": "markdown",
   "metadata": {},
   "source": [
    "`None` es el único valor del tipo `NoneType`\n",
    "\n",
    "- Se suele usar cuando se quiere indicar que no hay ningún valor _real_ adecuado.\n",
    "- Aunque se evalúe a `False`, no _es_ `False`"
   ]
  },
  {
   "cell_type": "code",
   "execution_count": 1,
   "metadata": {},
   "outputs": [
    {
     "name": "stdout",
     "output_type": "stream",
     "text": [
      "Objeto 'a' evalúa a False\n",
      "Objeto 'a' es None\n"
     ]
    }
   ],
   "source": [
    "a = None\n",
    "\n",
    "if a:  print(\"Objeto 'a' evalúa a True\")\n",
    "else:  print(\"Objeto 'a' evalúa a False\")\n",
    "    \n",
    "if a == False:  print(\"Objeto 'a' es False\")\n",
    "    \n",
    "if a == None:  print(\"Objeto 'a' es None\")"
   ]
  },
  {
   "cell_type": "markdown",
   "metadata": {},
   "source": [
    "<div style=\"background-color:powderblue;\">\n",
    "\n",
    "**EJERCICIO e2_6:** Escribir una sentencia IF, que compruebe una variable numérica `x`.\n",
    "\n",
    "- Si `x` es 0, mostrará el string \"ZERO\".\n",
    "- Si `x` es positiva, menor o igual a 10, mostrará el valor de `x`\n",
    "- Si `x` es positiva, mayor que 10, mostrará \"HIGH\"\n",
    "- Si `x` es negativa, mostrará \"NEGATIVE\"\n",
    "\n",
    "Probarlo para varios valores de `x`, incluido 10."
   ]
  },
  {
   "cell_type": "markdown",
   "metadata": {},
   "source": [
    "## Referencias compartidas\n",
    "\n",
    "- Es importante distinguir entre variables y objetos\n",
    "\n",
    "Ejemplo:"
   ]
  },
  {
   "cell_type": "code",
   "execution_count": 2,
   "metadata": {},
   "outputs": [],
   "source": [
    "a = [0, 1]  # Objeto lista, con dos elementos 0 y 1\n",
    "b = a       # La variable 'b' apunta al objeto apuntado por 'a'"
   ]
  },
  {
   "cell_type": "markdown",
   "metadata": {},
   "source": [
    "<img src=\"images/t1_refs_1.png\" width=200>\n",
    "\n",
    "Podemos usar los operadores `==` y `is`:\n",
    "- `==`: Compara el _valor_ de los operandos\n",
    "- `is`: Compara la _identidad_, es decir, si los dos operandos son el mismo objeto en memoria"
   ]
  },
  {
   "cell_type": "code",
   "execution_count": 187,
   "metadata": {},
   "outputs": [
    {
     "data": {
      "text/plain": [
       "(True, True)"
      ]
     },
     "execution_count": 187,
     "metadata": {},
     "output_type": "execute_result"
    }
   ],
   "source": [
    "a == b, a is b"
   ]
  },
  {
   "cell_type": "code",
   "execution_count": 186,
   "metadata": {},
   "outputs": [],
   "source": [
    "b[0] = 5  # Modificamos un elemento de 'b'"
   ]
  },
  {
   "cell_type": "markdown",
   "metadata": {},
   "source": [
    "<img src=\"images/t1_refs_2.png\" width=200>"
   ]
  },
  {
   "cell_type": "code",
   "execution_count": 178,
   "metadata": {},
   "outputs": [
    {
     "data": {
      "text/plain": [
       "(True, True)"
      ]
     },
     "execution_count": 178,
     "metadata": {},
     "output_type": "execute_result"
    }
   ],
   "source": [
    "a == b,  a is b"
   ]
  },
  {
   "cell_type": "code",
   "execution_count": 179,
   "metadata": {},
   "outputs": [],
   "source": [
    "b = [5, 1]"
   ]
  },
  {
   "cell_type": "markdown",
   "metadata": {},
   "source": [
    "<img src=\"images/t1_refs_3.png\" width=200>"
   ]
  },
  {
   "cell_type": "code",
   "execution_count": 181,
   "metadata": {},
   "outputs": [
    {
     "data": {
      "text/plain": [
       "(True, False)"
      ]
     },
     "execution_count": 181,
     "metadata": {},
     "output_type": "execute_result"
    }
   ],
   "source": [
    "a == b,  a is b"
   ]
  },
  {
   "cell_type": "markdown",
   "metadata": {},
   "source": [
    "- Y distinguir las asignaciones de las copias\n",
    "  - En listas, el operador `[:]` _copia_ todos los elementos"
   ]
  },
  {
   "cell_type": "code",
   "execution_count": 182,
   "metadata": {},
   "outputs": [],
   "source": [
    "b = a[:]"
   ]
  },
  {
   "cell_type": "markdown",
   "metadata": {},
   "source": [
    "<img src=\"images/t1_refs_4.png\" width=130>"
   ]
  },
  {
   "cell_type": "code",
   "execution_count": 183,
   "metadata": {},
   "outputs": [
    {
     "data": {
      "text/plain": [
       "(True, False)"
      ]
     },
     "execution_count": 183,
     "metadata": {},
     "output_type": "execute_result"
    }
   ],
   "source": [
    "a == b,  a is b"
   ]
  },
  {
   "cell_type": "markdown",
   "metadata": {},
   "source": [
    "## Gestión de memoria\n",
    "\n",
    "La gestión de memoria es realizada por python automáticamente\n",
    "- Menos eficiente, pero mucho más sencillo y menos propenso a errores que los sistemas de gestión explícita\n",
    "\n",
    "Cuando el número de referencias a un objeto llega a 0, el objeto es eliminado\n",
    "- Las referencias pueden eliminarse por _scope_ (dejan de ser _visibles_)...\n",
    "- ... o con la instrucción `del` (infrecuente)"
   ]
  },
  {
   "cell_type": "code",
   "execution_count": 188,
   "metadata": {},
   "outputs": [
    {
     "ename": "NameError",
     "evalue": "name 'a' is not defined",
     "output_type": "error",
     "traceback": [
      "\u001b[0;31m---------------------------------------------------------------------------\u001b[0m",
      "\u001b[0;31mNameError\u001b[0m                                 Traceback (most recent call last)",
      "\u001b[0;32m<ipython-input-188-30059202e781>\u001b[0m in \u001b[0;36m<module>\u001b[0;34m\u001b[0m\n\u001b[1;32m      1\u001b[0m \u001b[0ma\u001b[0m \u001b[0;34m=\u001b[0m \u001b[0;36m5\u001b[0m\u001b[0;34m\u001b[0m\u001b[0;34m\u001b[0m\u001b[0m\n\u001b[1;32m      2\u001b[0m \u001b[0;32mdel\u001b[0m\u001b[0;34m(\u001b[0m\u001b[0ma\u001b[0m\u001b[0;34m)\u001b[0m\u001b[0;34m\u001b[0m\u001b[0;34m\u001b[0m\u001b[0m\n\u001b[0;32m----> 3\u001b[0;31m \u001b[0ma\u001b[0m\u001b[0;34m\u001b[0m\u001b[0;34m\u001b[0m\u001b[0m\n\u001b[0m",
      "\u001b[0;31mNameError\u001b[0m: name 'a' is not defined"
     ]
    }
   ],
   "source": [
    "a = 5\n",
    "del(a)\n",
    "a"
   ]
  }
 ],
 "metadata": {
  "kernelspec": {
   "display_name": "Python [conda env:jupyter-test] *",
   "language": "python",
   "name": "conda-env-jupyter-test-py"
  },
  "language_info": {
   "codemirror_mode": {
    "name": "ipython",
    "version": 3
   },
   "file_extension": ".py",
   "mimetype": "text/x-python",
   "name": "python",
   "nbconvert_exporter": "python",
   "pygments_lexer": "ipython3",
   "version": "3.8.2"
  },
  "toc-autonumbering": false,
  "toc-showmarkdowntxt": false,
  "toc-showtags": false
 },
 "nbformat": 4,
 "nbformat_minor": 4
}
