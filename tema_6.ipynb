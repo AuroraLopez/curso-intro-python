{
 "cells": [
  {
   "cell_type": "markdown",
   "metadata": {
    "slideshow": {
     "slide_type": "slide"
    }
   },
   "source": [
    "<font size=6>\n",
    "\n",
    "<b>Curso de Introducción a la Programación en Python</b>\n",
    "</font>\n",
    "\n",
    "<font size=4>\n",
    "    \n",
    "Curso de formación interna, CIEMAT \n",
    "Junio, 2020\n",
    "\n",
    "Antonio Delgado Peris\n",
    "</font>\n",
    "\n",
    "some url.. \n",
    "\n",
    "<br/>\n",
    "<br/>"
   ]
  },
  {
   "cell_type": "markdown",
   "metadata": {},
   "source": [
    "# Tema 6 - Funciones"
   ]
  },
  {
   "cell_type": "markdown",
   "metadata": {},
   "source": [
    "## Objetivos\n",
    "\n",
    "- Aprender a definir funciones y utilizarlas\n",
    "\n",
    "- Entender las diferentes maneras de pasar argumentos a una función \n",
    "\n",
    "- Introducir el _scope_ (alcance) y _namespaces_ de los objetos Python, en particular para el caso de las funciones\n"
   ]
  },
  {
   "cell_type": "markdown",
   "metadata": {},
   "source": [
    "## Funciones en Python\n",
    "\n",
    "Una función es un bloque de instrucciones que se ejecutan cuando la función es llamada.\n",
    "\n",
    "- Permiten reutilizar código, sin tener que reescribirlo.\n",
    "- Son esenciales para cualquier programa no trivial.\n",
    "\n",
    "Una función se define con la sentencia `def`:\n",
    "\n",
    "    def mi_funcion(arg1, arg2, ...):\n",
    "        instruccion\n",
    "        instruccion\n",
    "       \n",
    "- La ejecución de la sentencia `def` crear un nuevo _objeto función_ ligado al nombre `mi_funcion`.\n",
    "- El _cuerpo_ de la función no se interpreta hasta que la función es usada: `mi_funcion(args)`\n",
    "\n",
    "En el cuerpo de la función:\n",
    "\n",
    "- Los identificadores de argumentos se pueden usar como variables locales\n",
    "- La sentencia `return` especifica el valor devuelto por la función (por defecto es `None`)"
   ]
  },
  {
   "cell_type": "code",
   "execution_count": 46,
   "metadata": {},
   "outputs": [
    {
     "name": "stdout",
     "output_type": "stream",
     "text": [
      "7\n"
     ]
    }
   ],
   "source": [
    "def suma(x, y):\n",
    "     res = x + y\n",
    "     return res\n",
    "\n",
    "s = suma(3, 4)\n",
    "print(s)"
   ]
  },
  {
   "cell_type": "markdown",
   "metadata": {},
   "source": [
    "**EJERCICIO e5_1:** \n",
    "\n",
    "- Crear una función que acepte un argumento numérico y que devuelva el doble del valor pasado.\n",
    "- Probarla con las siguientes entradas: `2`, `-10.0`, `'abcd'`"
   ]
  },
  {
   "cell_type": "markdown",
   "metadata": {},
   "source": [
    "## Argumentos de funciones\n",
    "\n",
    "Los argumentos de una función de Python se _pasan por asignación_ (equivalente a _por referencia_)..\n",
    "\n",
    "- El valor pasado _se asigna_ a una variable local (no se hace una copia)\n",
    "- Si el valor es modificable, y se modifica, la variable externa verá el mismo cambio\n",
    "- Como las variables no tienen tipo, tampoco lo tienen los argumentos de una función"
   ]
  },
  {
   "cell_type": "code",
   "execution_count": 19,
   "metadata": {},
   "outputs": [
    {
     "name": "stdout",
     "output_type": "stream",
     "text": [
      "-- Org v: [0, 1]\n",
      "-- New v: [0, 1, 2]\n",
      "\n",
      "Returned: [0, 1, 2]\n"
     ]
    }
   ],
   "source": [
    "def addElem(v, val):\n",
    "    print(\"-- Org v:\", v)\n",
    "    v += (val, )\n",
    "    print(\"-- New v:\", v)\n",
    "\n",
    "nums = [0, 1]\n",
    "addElem(nums, 2)\n",
    "print('\\nReturned:', nums)"
   ]
  },
  {
   "cell_type": "code",
   "execution_count": 21,
   "metadata": {},
   "outputs": [
    {
     "name": "stdout",
     "output_type": "stream",
     "text": [
      "-- Org v: (0, 1)\n",
      "-- New v: (0, 1, 2)\n",
      "\n",
      "Returned: (0, 1)\n"
     ]
    }
   ],
   "source": [
    "nums2 = (0, 1)\n",
    "addElem(nums2, 2)\n",
    "print('\\nReturned:', nums2)"
   ]
  },
  {
   "cell_type": "markdown",
   "metadata": {},
   "source": [
    "### Formas de pasar argumentos\n",
    "\n",
    "- Por posición: `f(3, 4)`\n",
    "- Nombrados: `f(x=3, y=4)`\n",
    "- Expansión: \n",
    "  - `f(*(3, 4))` equivale a `f(3, 4)`\n",
    "  - `f(**{x:3, y:4}` equivale a `f(x=3, y=4)`\n",
    "\n",
    "Si se combinan, el orden siempre debe ser: posición, nombrados; y expandidos después de no expandidos. P.ej.:\n",
    "\n",
    "    f(1, y=2, z=3)\n",
    "    f(1 *[2,3])\n",
    "    f(1, *mytuple, w=10, **mydict)"
   ]
  },
  {
   "cell_type": "code",
   "execution_count": 45,
   "metadata": {},
   "outputs": [
    {
     "name": "stdout",
     "output_type": "stream",
     "text": [
      "a1: 3   a2: 4    a3: 5\n",
      "a1: 3   a2: 4    a3: 5\n",
      "a1: 3   a2: 4    a3: 5\n",
      "a1: 3   a2: 4    a3: 5\n"
     ]
    }
   ],
   "source": [
    "def f(a1, a2, a3):\n",
    "    print(f'a1: {a1}   a2: {a2}    a3: {a3}')\n",
    "\n",
    "f(3, *(4,5))\n",
    "f(3, 4, a3=5)\n",
    "f(*(3,4), a3=5)\n",
    "f(3, **{'a2':4, 'a3':5})"
   ]
  },
  {
   "cell_type": "markdown",
   "metadata": {},
   "source": [
    "### Formas de recoger argumentos\n",
    "\n",
    "- Argumentos con valores por defecto (si no son especificados por el llamante):   "
   ]
  },
  {
   "cell_type": "code",
   "execution_count": 40,
   "metadata": {},
   "outputs": [
    {
     "name": "stdout",
     "output_type": "stream",
     "text": [
      "a1: 3   a2: 4\n",
      "a1: 3   a2: 0\n"
     ]
    }
   ],
   "source": [
    "def f1(a1, a2=0):\n",
    "    print(f'a1: {a1}   a2: {a2}')\n",
    "    \n",
    "f1(3, 4)\n",
    "f1(3)"
   ]
  },
  {
   "cell_type": "markdown",
   "metadata": {},
   "source": [
    "- Resto de argumentos recogidos en una tupla:"
   ]
  },
  {
   "cell_type": "code",
   "execution_count": 41,
   "metadata": {},
   "outputs": [
    {
     "name": "stdout",
     "output_type": "stream",
     "text": [
      "a1: 3   rest: (4, 5)\n",
      "a1: 3   rest: (4, 5)\n",
      "a1: 3   rest: ()\n"
     ]
    }
   ],
   "source": [
    "def f2(a1, *rest):\n",
    "    print(f'a1: {a1}   rest: {rest}')\n",
    "\n",
    "f2(3, 4, 5)\n",
    "f2(3)"
   ]
  },
  {
   "cell_type": "markdown",
   "metadata": {},
   "source": [
    "- Resto de argumentos _nombrados_ recogidos en un diccionario:"
   ]
  },
  {
   "cell_type": "code",
   "execution_count": 37,
   "metadata": {},
   "outputs": [
    {
     "name": "stdout",
     "output_type": "stream",
     "text": [
      "a1: 3   rest: {'x': 4, 'y': 5}\n",
      "a1: 3   rest: {'x': 4, 'y': 5}\n",
      "a1: 3   rest: {}\n"
     ]
    }
   ],
   "source": [
    "def f3(a1, **rest):\n",
    "    print(f'a1: {a1}   rest: {rest}')\n",
    "\n",
    "f3(a1=3, x=4, y=5)\n",
    "f3(3, x=4, y=5)\n",
    "f3(3)"
   ]
  },
  {
   "cell_type": "code",
   "execution_count": 38,
   "metadata": {},
   "outputs": [
    {
     "ename": "TypeError",
     "evalue": "f3() takes 1 positional argument but 3 were given",
     "output_type": "error",
     "traceback": [
      "\u001b[0;31m---------------------------------------------------------------------------\u001b[0m",
      "\u001b[0;31mTypeError\u001b[0m                                 Traceback (most recent call last)",
      "\u001b[0;32m<ipython-input-38-7502e3fc4fa5>\u001b[0m in \u001b[0;36m<module>\u001b[0;34m\u001b[0m\n\u001b[0;32m----> 1\u001b[0;31m \u001b[0mf3\u001b[0m\u001b[0;34m(\u001b[0m\u001b[0;36m3\u001b[0m\u001b[0;34m,\u001b[0m \u001b[0;36m4\u001b[0m\u001b[0;34m,\u001b[0m \u001b[0;36m5\u001b[0m\u001b[0;34m)\u001b[0m\u001b[0;34m\u001b[0m\u001b[0;34m\u001b[0m\u001b[0m\n\u001b[0m",
      "\u001b[0;31mTypeError\u001b[0m: f3() takes 1 positional argument but 3 were given"
     ]
    }
   ],
   "source": [
    "f3(3, 4, 5)"
   ]
  },
  {
   "cell_type": "markdown",
   "metadata": {},
   "source": [
    "## Namespace y scope\n",
    "\n",
    "Los _namespaces_ dividen el conjunto de identificadores de objetos, de manera que sea posible repetir el mismo nombre en dos espacios independientes, sin que haya colisión.\n",
    "\n",
    "- Es análogo a como uno puede tener dos ficheros con el mismo nombre si están en directorios diferentes.\n",
    "\n",
    "Python define muchos espacios de nombres diferentes.\n",
    "\n",
    "- P.ej. existe un espacio de nombres para los objetos _built-in_, así como uno para cada módulo.\n",
    "- Cada función Python define su propio espacio de nombres para sus variables (por tanto, son locales).\n",
    "\n",
    "Una variable siempre puede identificarse como: `namespace.identificador`, p.ej:\n",
    "\n",
    "    math.log\n",
    "    __builtins__.print\n",
    "\n",
    "Un concepto relacionado es el de _scope_ (alcance). El _scope_ de un identificador (variable) es en qué partes del programa es accesible, sin usar un prefijo (indicando su namespace).\n",
    "\n",
    "- Las variables _built-in_ están siempre accesibles\n",
    "- Las variables del espacio de nombres global de un módulo son accesibles dentro de ese módulo\n",
    "- Las variables locales a una función (incluidos los argumentos) solo son accesible desde el propio cuerpo de la función\n",
    "\n",
    "Si no se especifica el namespace, una variable se busca primero en el local, luego en el módulo (global), y luego en el _built-in_.\n",
    "\n",
    "- La sentencia `global <variable>` permite indicar que nos referimos a la variable global, y no a la local"
   ]
  },
  {
   "cell_type": "code",
   "execution_count": 53,
   "metadata": {},
   "outputs": [
    {
     "name": "stdout",
     "output_type": "stream",
     "text": [
      "func1: a = 3\n",
      "func2: b = 0\n",
      "out: a = 0\n",
      "out: b = 0\n"
     ]
    }
   ],
   "source": [
    "a = 0\n",
    "b = 1\n",
    "\n",
    "def func1(x):     # x local  (param)\n",
    "    a = b + x     # a local, b global (lectura)\n",
    "    print(\"func1: a =\", a)\n",
    "\n",
    "def func2(x):\n",
    "    global b      # b global\n",
    "    b = a         # a global (lectura)\n",
    "    print(\"func2: b =\", b)\n",
    "\n",
    "func1(2)\n",
    "func2(2)\n",
    "print(\"out: a =\", a)\n",
    "print(\"out: b =\", b)"
   ]
  },
  {
   "cell_type": "markdown",
   "metadata": {},
   "source": [
    "## Polimorfismo\n",
    "\n",
    "En Python, los argumentos de una función no tienen tipo, por lo que no tiene sentido tener diferentes definiciones de la función para diferentes tipos de argumentos (como sucede en otros lenguajes: _sobrecarga_).\n",
    "\n",
    "Para que nuestra función soporte diferentes argumentos solo se requiere... usarlo.\n",
    "\n",
    "- _Duck type: If it walks like a duck and quacks like a duck..._\n",
    "\n",
    "Esta filosofía gusta a unos más y a otros menos, pero es una herramienta muy potente\n",
    "\n",
    "- ¡Es importante documentar bien las funciones!"
   ]
  },
  {
   "cell_type": "code",
   "execution_count": 69,
   "metadata": {},
   "outputs": [
    {
     "name": "stdout",
     "output_type": "stream",
     "text": [
      " -- EN muestra --\n",
      "a\n",
      "2\n",
      "(3, 3)\n",
      "4\n",
      " -- EN muestra --\n",
      "a\n",
      "s\n",
      "t\n",
      "r\n",
      " -- EN muestra --\n",
      "# Curso de Introducción a la Programación en Python\n",
      "\n",
      "Curso de formación interna, CIEMAT.\n",
      "\n"
     ]
    }
   ],
   "source": [
    "def muestra(iterable):\n",
    "    print(' -- EN muestra --')\n",
    "    for i, x in enumerate(iterable):  \n",
    "        if i > 3: break\n",
    "        print(str(x).strip())\n",
    "\n",
    "muestra( ['a', 2, (3,3), 4 ])\n",
    "muestra( 'astring' )\n",
    "muestra( open('README.md') )\n"
   ]
  },
  {
   "cell_type": "markdown",
   "metadata": {},
   "source": [
    "## Funciones como objetos\n",
    "\n",
    "La definición de una función crea un objeto función.\n",
    "\n",
    "- No confundir la función, con el resultado de su invocación\n",
    "\n",
    "Un objeto función (como cualquier otro objeto) puede copiarse, pasarse como argumento, devolverse con `return`, etc.\n",
    "\n",
    "- Paradigma de programación funcional con Python "
   ]
  },
  {
   "cell_type": "code",
   "execution_count": 61,
   "metadata": {},
   "outputs": [
    {
     "name": "stdout",
     "output_type": "stream",
     "text": [
      "3 * 5 = 15\n",
      "3 * 4 = 12\n"
     ]
    }
   ],
   "source": [
    "# Function that creates and returns a new function\n",
    "def funcFactory(x):\n",
    "    def f(y):  print(f'{x} * {y} = {x*y}')\n",
    "    return f\n",
    "\n",
    "# Function that receives a function as argument, and calls it\n",
    "def funcCaller(f):\n",
    "   f(4)\n",
    "\n",
    "# Produce a function with fixed x=3\n",
    "myfunc = funcFactory(3)\n",
    "\n",
    "# Assign the function\n",
    "a = myfunc\n",
    "\n",
    "# Call the function with y=5\n",
    "a(5)\n",
    "\n",
    "# Pass the function as argument (it will be called with y=4)\n",
    "funcCaller(a)"
   ]
  },
  {
   "cell_type": "markdown",
   "metadata": {},
   "source": [
    "## Docstrings\n",
    "\n",
    "- Sirven para documentar python\n",
    "- Cualquier string comenzando módulos, clases, funciones, se considera documentación\n",
    "- Es lo que vemos con `help()` (también hay herramientas para generar html...)"
   ]
  },
  {
   "cell_type": "code",
   "execution_count": 64,
   "metadata": {},
   "outputs": [
    {
     "name": "stdout",
     "output_type": "stream",
     "text": [
      "Help on function funcFactory in module __main__:\n",
      "\n",
      "funcFactory(x)\n",
      "    Creates and returns a new function that multiplies its argument by 'x'.\n",
      "\n"
     ]
    }
   ],
   "source": [
    "def funcFactory(x):\n",
    "    \"\"\"\n",
    "    Creates and returns a new function that multiplies its argument by 'x'.\n",
    "    \"\"\"\n",
    "    def f(y):  print(f'{x} * {y} = {x*y}')\n",
    "    return f\n",
    "\n",
    "help(funcFactory)"
   ]
  },
  {
   "cell_type": "markdown",
   "metadata": {},
   "source": [
    "## Recursividad\n",
    "\n",
    "- Una función puede llamarse a sí misma\n",
    "- Funciona igual que en cualquier otro lenguaje\n",
    "- Se necesita una condición de salida que siempre se alcance"
   ]
  },
  {
   "cell_type": "code",
   "execution_count": 67,
   "metadata": {},
   "outputs": [
    {
     "name": "stdout",
     "output_type": "stream",
     "text": [
      "120\n"
     ]
    }
   ],
   "source": [
    "def factorial(x):\n",
    "   if x < 2:\n",
    "      return 1\n",
    "   else:\n",
    "      return x * factorial(x-1)\n",
    "\n",
    "print(factorial(5))"
   ]
  }
 ],
 "metadata": {
  "kernelspec": {
   "display_name": "Python 3",
   "language": "python",
   "name": "python3"
  },
  "language_info": {
   "codemirror_mode": {
    "name": "ipython",
    "version": 3
   },
   "file_extension": ".py",
   "mimetype": "text/x-python",
   "name": "python",
   "nbconvert_exporter": "python",
   "pygments_lexer": "ipython3",
   "version": "3.8.2"
  }
 },
 "nbformat": 4,
 "nbformat_minor": 4
}
