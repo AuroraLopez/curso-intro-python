{
 "cells": [
  {
   "cell_type": "markdown",
   "metadata": {
    "slideshow": {
     "slide_type": "slide"
    }
   },
   "source": [
    "<font size=6>\n",
    "\n",
    "<b>Curso de Introducción a la Programación en Python</b>\n",
    "</font>\n",
    "\n",
    "<font size=4>\n",
    "    \n",
    "Curso de formación interna, CIEMAT \n",
    "Junio, 2020\n",
    "\n",
    "Antonio Delgado Peris\n",
    "</font>\n",
    "\n",
    "some url.. \n",
    "\n",
    "<br/>\n",
    "<br/>"
   ]
  },
  {
   "cell_type": "markdown",
   "metadata": {},
   "source": [
    "# Tema 4 - Iterables (II): Diccionarios"
   ]
  },
  {
   "cell_type": "markdown",
   "metadata": {},
   "source": [
    "## Objetivos\n",
    "\n",
    "- Conocer cómo funcionan los diccionarios (_mapas_) en Python\n",
    "\n",
    "- Conocer algunas funciones y sentencias adicionales para el trabajo con bucles e iterables. \n",
    "\n",
    "- Conocer los bucles con la sentencia `while`"
   ]
  },
  {
   "cell_type": "markdown",
   "metadata": {},
   "source": [
    "## Diccionarios\n",
    "\n",
    "Los diccionarios en Python son iterables que asocian claves y valores (_mapas_, _hash arrays_).\n",
    "\n",
    "- Las claves deben ser inmutables (enteros, strings, tuplas).\n",
    "- Los valores pueden ser cualquier tipo de objeto."
   ]
  },
  {
   "cell_type": "code",
   "execution_count": 33,
   "metadata": {},
   "outputs": [
    {
     "name": "stdout",
     "output_type": "stream",
     "text": [
      "{'a': 1, 'b': 5}\n"
     ]
    }
   ],
   "source": [
    "d = {'a': 1, 'b': 5}\n",
    "print(d)"
   ]
  },
  {
   "cell_type": "markdown",
   "metadata": {},
   "source": [
    "- El acceso para leer o modificar un valor concreta usa el operador `[]`"
   ]
  },
  {
   "cell_type": "code",
   "execution_count": 34,
   "metadata": {},
   "outputs": [
    {
     "name": "stdout",
     "output_type": "stream",
     "text": [
      "1\n",
      "{'a': 1, 'b': 5, 'c': 10}\n"
     ]
    }
   ],
   "source": [
    "print(d['a'])\n",
    "d['c'] = 10\n",
    "print(d)"
   ]
  },
  {
   "cell_type": "markdown",
   "metadata": {},
   "source": [
    "- Los diccionarios son iterables\n",
    "  - Cuando se recorre (itera) un diccionario, se recorren las claves.\n",
    "  - *Importante:* el orden de las claves no está definido (no depende del orden de creación)"
   ]
  },
  {
   "cell_type": "code",
   "execution_count": 35,
   "metadata": {},
   "outputs": [
    {
     "name": "stdout",
     "output_type": "stream",
     "text": [
      "Longitud: 3\n",
      "¿Contiene la 'b'?: True\n",
      "1\n",
      "5\n",
      "10\n"
     ]
    }
   ],
   "source": [
    "print(\"Longitud:\", len(d))\n",
    "print(\"¿Contiene la 'b'?:\", 'b' in d)\n",
    "for k in d:\n",
    "    print(d[k])"
   ]
  },
  {
   "cell_type": "markdown",
   "metadata": {},
   "source": [
    "- La función `update` puede usarse para combinar o actualizar diccionarios"
   ]
  },
  {
   "cell_type": "code",
   "execution_count": 36,
   "metadata": {},
   "outputs": [
    {
     "name": "stdout",
     "output_type": "stream",
     "text": [
      "{'pepe': 1, 'elena': 500, 'maria': 100}\n"
     ]
    }
   ],
   "source": [
    "d1 = {'pepe': 1, 'elena': 2}\n",
    "d2 = {'maria': 100, 'elena': 500}\n",
    "d1.update(d2)\n",
    "print(d1)"
   ]
  },
  {
   "cell_type": "markdown",
   "metadata": {},
   "source": [
    "### Dictionary views\n",
    "\n",
    "Los métodos de diccionario `keys`, `values`, `items`, devuelven objetos de tipo _view_.\n",
    "\n",
    "> **Nota:** en Python 2 estos métodos devuelven listas.\n",
    "\n",
    "- Estos objetos son una _vista_ del contenido del diccionario (ofreciendo un interfaz adicional)\n",
    "- Si el diccionario subyacente varía, las vistas varían también\n",
    "- En muchos aspectos se comportan comos los _sets_."
   ]
  },
  {
   "cell_type": "code",
   "execution_count": 44,
   "metadata": {},
   "outputs": [
    {
     "name": "stdout",
     "output_type": "stream",
     "text": [
      "dict_keys(['a', 'b', 'c'])\n",
      "a --> 1\n",
      "b --> 2\n",
      "c --> 3\n"
     ]
    }
   ],
   "source": [
    "d = {'a': 1, 'b': 2, 'c': 3}\n",
    "kview = d.keys()\n",
    "print(kview)\n",
    "for k in kview:  print(k, '-->', d[k])"
   ]
  },
  {
   "cell_type": "code",
   "execution_count": 46,
   "metadata": {},
   "outputs": [
    {
     "name": "stdout",
     "output_type": "stream",
     "text": [
      "dict_keys(['b', 'c'])\n"
     ]
    }
   ],
   "source": [
    "del d['a']\n",
    "print(kview)"
   ]
  },
  {
   "cell_type": "code",
   "execution_count": 47,
   "metadata": {},
   "outputs": [
    {
     "name": "stdout",
     "output_type": "stream",
     "text": [
      "dict_values([2, 3])\n"
     ]
    }
   ],
   "source": [
    "vview = d.values()\n",
    "print(vview)"
   ]
  },
  {
   "cell_type": "code",
   "execution_count": 50,
   "metadata": {},
   "outputs": [
    {
     "name": "stdout",
     "output_type": "stream",
     "text": [
      "dict_items([('b', 2), ('c', 3)])\n"
     ]
    }
   ],
   "source": [
    "iview = d.items()\n",
    "print(iview)"
   ]
  },
  {
   "cell_type": "code",
   "execution_count": 52,
   "metadata": {},
   "outputs": [
    {
     "name": "stdout",
     "output_type": "stream",
     "text": [
      "b --> 2\n",
      "c --> 3\n"
     ]
    }
   ],
   "source": [
    "for k, v in d.items():\n",
    "    print(k, '-->', v)"
   ]
  },
  {
   "cell_type": "markdown",
   "metadata": {},
   "source": [
    "<br/>\n",
    "\n",
    "## Algunas funciones adicionales con iterables"
   ]
  },
  {
   "cell_type": "markdown",
   "metadata": {},
   "source": [
    "`enumerate(iterable)`: devuelve un nuevo iterable (perezoso), que genera tuplas de 2 elementos: el primero un índice entero (creciente desde 0), y el segundo el elemento correspondiente del argumento.\n",
    "\n",
    "- Es decir, numera los elementos del iterable.\n",
    "\n",
    "  <img src=\"images/t4_enumerate.png\" width=250>\n",
    "  <br/>"
   ]
  },
  {
   "cell_type": "code",
   "execution_count": 60,
   "metadata": {},
   "outputs": [
    {
     "name": "stdout",
     "output_type": "stream",
     "text": [
      "0 a\n",
      "1 b\n",
      "2 c\n"
     ]
    }
   ],
   "source": [
    "l = ['a', 'b', 'c']\n",
    "for i, v in enumerate(l):  print(i, v)"
   ]
  },
  {
   "cell_type": "code",
   "execution_count": 61,
   "metadata": {},
   "outputs": [
    {
     "name": "stdout",
     "output_type": "stream",
     "text": [
      "0 a\n",
      "1 b\n"
     ]
    }
   ],
   "source": [
    "d = {'a': 10, 'b': 20}\n",
    "for i, k in enumerate(d):  print(i, k)"
   ]
  },
  {
   "cell_type": "markdown",
   "metadata": {},
   "source": [
    "<br/>\n",
    "\n",
    "`zip(iter_1, iter_2, ..., iter_N)`: devuelve un iterable (perezoso), que genera tuplas de `N` elementos, cogiendo uno de cada argumento, por orden, hasta que alguno de los argumentos se quede sin elementos.\n",
    "\n",
    "- Es decir, que combina los elementos de diferentes iterables, tomándolos 1 a 1. \n",
    "- También se podría considerar una manera de _transponer_ vectores.\n",
    "\n",
    "  <img src=\"images/t4_zip.png\" width=350>\n",
    "  <br/>\n",
    "  "
   ]
  },
  {
   "cell_type": "code",
   "execution_count": 57,
   "metadata": {},
   "outputs": [
    {
     "name": "stdout",
     "output_type": "stream",
     "text": [
      "El circulo es azul.\n",
      "El cuadrado es rojo.\n",
      "El triangulo es amarillo.\n"
     ]
    }
   ],
   "source": [
    "figures = 'circulo', 'cuadrado', 'triangulo'\n",
    "colors = 'azul', 'rojo', 'amarillo'\n",
    "for fig, color in zip(figures, colors):\n",
    "    print(f\"El {fig} es {color}.\")"
   ]
  },
  {
   "cell_type": "code",
   "execution_count": 58,
   "metadata": {},
   "outputs": [
    {
     "name": "stdout",
     "output_type": "stream",
     "text": [
      "('a', 0, '.') ('b', 1, '-') ('c', 2, ',') ('d', 3, ':')\n"
     ]
    }
   ],
   "source": [
    "x = 'abcd'\n",
    "y = (0, 1, 2, 3)\n",
    "z = '.-,:'\n",
    "a, b, c, d = zip(x, y, z)\n",
    "print(a, b, c, d)"
   ]
  },
  {
   "cell_type": "markdown",
   "metadata": {},
   "source": [
    "<br/>\n",
    "\n",
    "`object.copy()`: función común a muchos de los iterables que hemos visto (aunque no a todos). Devuelve una copia _superficial_ del objeto.\n",
    "\n",
    "- _Superficial_ quiere decir que si los elementos contenidos, a su vez, con contenedores de otros elementos, no se copian sus contenidos recursivamente, sino que se hace una referencia a ellos.\n",
    "\n",
    "  - Si los elementos son modificables, entonces un cambio en uno de ellos afectará al iterable original y a su copia.\n",
    "\n",
    "    <img src=\"images/t4_copy.png\" width=270>\n",
    "\n",
    "Existe un módulo `copy`, que ofrece métodos para copia genérica, tanto superficial como profunda (recursiva) de objetos Python.\n",
    "\n",
    "- Si los elementos son inmutables (enteros, strings, tuplas...), los dos tipos de copias son equivalentes.\n"
   ]
  },
  {
   "cell_type": "code",
   "execution_count": 96,
   "metadata": {},
   "outputs": [
    {
     "name": "stdout",
     "output_type": "stream",
     "text": [
      "   l: [(1, 1), 'X']\n",
      " l_b: [(1, 1), 'X']\n",
      "  l2: [(0, 0), 'X']\n"
     ]
    }
   ],
   "source": [
    "l = [(0, 0), 'X']\n",
    "l_b = l\n",
    "l2 = l.copy()\n",
    "l[0] = (1, 1)\n",
    "print('   l:', l)\n",
    "print(' l_b:', l_b)\n",
    "print('  l2:', l2)"
   ]
  },
  {
   "cell_type": "code",
   "execution_count": 95,
   "metadata": {},
   "outputs": [
    {
     "name": "stdout",
     "output_type": "stream",
     "text": [
      "   l: [[1, 0], 'X']\n",
      " l_b: [[1, 0], 'X']\n",
      "  l2: [[1, 0], 'X']\n"
     ]
    }
   ],
   "source": [
    "l = [[0, 0], 'X']\n",
    "l_b = l\n",
    "l2 = l.copy()\n",
    "l[0][0] = 1\n",
    "print('   l:', l)\n",
    "print(' l_b:', l_b)\n",
    "print('  l2:', l2)"
   ]
  },
  {
   "cell_type": "markdown",
   "metadata": {},
   "source": [
    "## Más sobre bucles\n",
    "\n",
    "Las sentencias `break`y `continue` alteran la ejecución normal de un bucle.\n",
    "\n",
    "- `break` provoca que acabe el bucle actual (si hay varios, el más profundo), y se pase a la instrucción que sigue al bucle.\n",
    "\n",
    "- `continue` provoca que se salte a la siguiente iteración, sin ejecutar las instrucciones que faltan de la iteración actual."
   ]
  },
  {
   "cell_type": "code",
   "execution_count": 71,
   "metadata": {},
   "outputs": [
    {
     "name": "stdout",
     "output_type": "stream",
     "text": [
      "0\n",
      "1\n",
      "3\n",
      "4\n"
     ]
    }
   ],
   "source": [
    "for x in range(10):\n",
    "    if x == 2:  continue\n",
    "    if x == 5:  break\n",
    "    print(x)"
   ]
  },
  {
   "cell_type": "markdown",
   "metadata": {},
   "source": [
    "<br/>\n",
    "\n",
    "La sentencia `while` sirve para crear bucles, de manera diferente a `for`:\n",
    "\n",
    "    while <condicion-es-True>:\n",
    "        instrucción\n",
    "        ...\n",
    "\n",
    "En la práctica, en Python se usa mucho más `for` que `while`, pero en ocasiones es útil."
   ]
  },
  {
   "cell_type": "code",
   "execution_count": 81,
   "metadata": {},
   "outputs": [
    {
     "name": "stdout",
     "output_type": "stream",
     "text": [
      "1\n",
      "2\n",
      "3\n"
     ]
    }
   ],
   "source": [
    "i = 1\n",
    "finished = False\n",
    "\n",
    "while not finished:\n",
    "    print(i)\n",
    "    i += 1\n",
    "    finished = (i > 3)"
   ]
  },
  {
   "cell_type": "code",
   "execution_count": 97,
   "metadata": {},
   "outputs": [],
   "source": [
    "\n",
    "# Ejercicio más complejo (adaptar el del grafo, o el del fichero...)\n"
   ]
  }
 ],
 "metadata": {
  "kernelspec": {
   "display_name": "Python 3",
   "language": "python",
   "name": "python3"
  },
  "language_info": {
   "codemirror_mode": {
    "name": "ipython",
    "version": 3
   },
   "file_extension": ".py",
   "mimetype": "text/x-python",
   "name": "python",
   "nbconvert_exporter": "python",
   "pygments_lexer": "ipython3",
   "version": "3.8.2"
  }
 },
 "nbformat": 4,
 "nbformat_minor": 4
}
