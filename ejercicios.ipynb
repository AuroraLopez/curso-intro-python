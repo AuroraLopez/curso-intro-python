{
 "cells": [
  {
   "cell_type": "markdown",
   "metadata": {},
   "source": [
    "# Soluciones a ejercicios"
   ]
  },
  {
   "cell_type": "markdown",
   "metadata": {},
   "source": [
    "## Tema 2"
   ]
  },
  {
   "cell_type": "markdown",
   "metadata": {},
   "source": [
    "**EJERCICIO e2_2**"
   ]
  },
  {
   "cell_type": "code",
   "execution_count": 3,
   "metadata": {},
   "outputs": [
    {
     "data": {
      "text/plain": [
       "4.0"
      ]
     },
     "execution_count": 3,
     "metadata": {},
     "output_type": "execute_result"
    }
   ],
   "source": [
    "# help(complex)\n",
    "a = 3 + 4j\n",
    "a.imag"
   ]
  },
  {
   "cell_type": "markdown",
   "metadata": {},
   "source": [
    "**EJERCICIO e2_3**"
   ]
  },
  {
   "cell_type": "code",
   "execution_count": 4,
   "metadata": {},
   "outputs": [
    {
     "name": "stdout",
     "output_type": "stream",
     "text": [
      "'' \t-->  Falso\n",
      "'a' \t-->  Verdadero\n"
     ]
    }
   ],
   "source": [
    "if '':  print(\"''\", '\\t-->  Verdadero')\n",
    "else:   print(\"''\", '\\t-->  Falso')\n",
    "    \n",
    "if 'a':  print(\"'a'\", '\\t-->  Verdadero')\n",
    "else:    print(\"'a'\", '\\t-->  Falso')"
   ]
  },
  {
   "cell_type": "markdown",
   "metadata": {},
   "source": [
    "**EJERCICIO e2_4**"
   ]
  },
  {
   "cell_type": "code",
   "execution_count": 5,
   "metadata": {},
   "outputs": [
    {
     "name": "stdout",
     "output_type": "stream",
     "text": [
      "[0] \t-->  Verdadero\n"
     ]
    }
   ],
   "source": [
    "if [0]:  print([0], '\\t-->  Verdadero')\n",
    "else:    print([0], '\\t-->  Falso')"
   ]
  },
  {
   "cell_type": "markdown",
   "metadata": {},
   "source": [
    "**EJERCICIO e2_5**"
   ]
  },
  {
   "cell_type": "code",
   "execution_count": 9,
   "metadata": {},
   "outputs": [
    {
     "name": "stdout",
     "output_type": "stream",
     "text": [
      "4 != 5 \t-->  Verdadero\n",
      "3 < 2 \t-->  Falso\n",
      "2 >= 2 \t-->  Verdadero\n"
     ]
    }
   ],
   "source": [
    "if 4 != 5:  print('4 != 5', '\\t-->  Verdadero')\n",
    "else:    print('4 != 5', '\\t-->  Falso')\n",
    "    \n",
    "if 3 < 2:  print('3 < 2', '\\t-->  Verdadero')\n",
    "else:    print('3 < 2', '\\t-->  Falso')\n",
    "    \n",
    "if 2 >= 2:  print('2 >= 2', '\\t-->  Verdadero')\n",
    "else:    print('2 >= 2', '\\t-->  Falso')"
   ]
  },
  {
   "cell_type": "markdown",
   "metadata": {},
   "source": [
    "**EJERCICIO e2_6**"
   ]
  },
  {
   "cell_type": "code",
   "execution_count": 10,
   "metadata": {},
   "outputs": [
    {
     "data": {
      "text/plain": [
       "['Este', 'es', 'mi', 'string']"
      ]
     },
     "execution_count": 10,
     "metadata": {},
     "output_type": "execute_result"
    }
   ],
   "source": [
    "a = 'Este es mi string'\n",
    "a.split()"
   ]
  },
  {
   "cell_type": "markdown",
   "metadata": {},
   "source": [
    "**EJERCICIO e2_7**"
   ]
  },
  {
   "cell_type": "code",
   "execution_count": 162,
   "metadata": {},
   "outputs": [],
   "source": [
    "v1 = 'locomotora'\n",
    "v2 = 'avión'\n",
    "v3 = 'tren'"
   ]
  },
  {
   "cell_type": "code",
   "execution_count": 169,
   "metadata": {},
   "outputs": [
    {
     "name": "stdout",
     "output_type": "stream",
     "text": [
      "locomotora\n",
      "     avión\n",
      "      tren\n"
     ]
    }
   ],
   "source": [
    "print(f'{v1:>10}')\n",
    "print(f'{v2:>10}')\n",
    "print(f'{v3:>10}')"
   ]
  }
 ],
 "metadata": {
  "kernelspec": {
   "display_name": "Python 3",
   "language": "python",
   "name": "python3"
  },
  "language_info": {
   "codemirror_mode": {
    "name": "ipython",
    "version": 3
   },
   "file_extension": ".py",
   "mimetype": "text/x-python",
   "name": "python",
   "nbconvert_exporter": "python",
   "pygments_lexer": "ipython3",
   "version": "3.8.2"
  }
 },
 "nbformat": 4,
 "nbformat_minor": 4
}
