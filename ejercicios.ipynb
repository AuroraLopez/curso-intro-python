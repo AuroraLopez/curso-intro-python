{
 "cells": [
  {
   "cell_type": "markdown",
   "metadata": {},
   "source": [
    "# Soluciones a ejercicios"
   ]
  },
  {
   "cell_type": "markdown",
   "metadata": {},
   "source": [
    "## Tema 2"
   ]
  },
  {
   "cell_type": "markdown",
   "metadata": {},
   "source": [
    "**EJERCICIO e2_2**"
   ]
  },
  {
   "cell_type": "code",
   "execution_count": 3,
   "metadata": {},
   "outputs": [
    {
     "data": {
      "text/plain": [
       "4.0"
      ]
     },
     "execution_count": 3,
     "metadata": {},
     "output_type": "execute_result"
    }
   ],
   "source": [
    "# help(complex)\n",
    "a = 3 + 4j\n",
    "a.imag"
   ]
  },
  {
   "cell_type": "markdown",
   "metadata": {},
   "source": [
    "**EJERCICIO e2_3**"
   ]
  },
  {
   "cell_type": "code",
   "execution_count": 4,
   "metadata": {},
   "outputs": [
    {
     "name": "stdout",
     "output_type": "stream",
     "text": [
      "'' \t-->  Falso\n",
      "'a' \t-->  Verdadero\n"
     ]
    }
   ],
   "source": [
    "if '':  print(\"''\", '\\t-->  Verdadero')\n",
    "else:   print(\"''\", '\\t-->  Falso')\n",
    "    \n",
    "if 'a':  print(\"'a'\", '\\t-->  Verdadero')\n",
    "else:    print(\"'a'\", '\\t-->  Falso')"
   ]
  },
  {
   "cell_type": "markdown",
   "metadata": {},
   "source": [
    "**EJERCICIO e2_4**"
   ]
  },
  {
   "cell_type": "code",
   "execution_count": 5,
   "metadata": {},
   "outputs": [
    {
     "name": "stdout",
     "output_type": "stream",
     "text": [
      "[0] \t-->  Verdadero\n"
     ]
    }
   ],
   "source": [
    "if [0]:  print([0], '\\t-->  Verdadero')\n",
    "else:    print([0], '\\t-->  Falso')"
   ]
  },
  {
   "cell_type": "markdown",
   "metadata": {},
   "source": [
    "**EJERCICIO e2_5**"
   ]
  },
  {
   "cell_type": "code",
   "execution_count": 9,
   "metadata": {},
   "outputs": [
    {
     "name": "stdout",
     "output_type": "stream",
     "text": [
      "4 != 5 \t-->  Verdadero\n",
      "3 < 2 \t-->  Falso\n",
      "2 >= 2 \t-->  Verdadero\n"
     ]
    }
   ],
   "source": [
    "if 4 != 5:  print('4 != 5', '\\t-->  Verdadero')\n",
    "else:    print('4 != 5', '\\t-->  Falso')\n",
    "    \n",
    "if 3 < 2:  print('3 < 2', '\\t-->  Verdadero')\n",
    "else:    print('3 < 2', '\\t-->  Falso')\n",
    "    \n",
    "if 2 >= 2:  print('2 >= 2', '\\t-->  Verdadero')\n",
    "else:    print('2 >= 2', '\\t-->  Falso')"
   ]
  },
  {
   "cell_type": "markdown",
   "metadata": {},
   "source": [
    "**EJERCICIO e2_6**"
   ]
  },
  {
   "cell_type": "code",
   "execution_count": 86,
   "metadata": {},
   "outputs": [
    {
     "name": "stdout",
     "output_type": "stream",
     "text": [
      "10\n"
     ]
    }
   ],
   "source": [
    "# Una forma de hacerlo\n",
    "x = 10\n",
    "if not x:     print(\"ZERO\")\n",
    "elif x < 0:   print(\"NEGATIVE\")\n",
    "elif x <= 10: print(x)\n",
    "else:         print(\"HIGH\")"
   ]
  },
  {
   "cell_type": "code",
   "execution_count": 73,
   "metadata": {},
   "outputs": [
    {
     "name": "stdout",
     "output_type": "stream",
     "text": [
      "HIGH\n"
     ]
    }
   ],
   "source": [
    "# Lo mismo, de otra manera\n",
    "x = 10.1\n",
    "if x == 0:  print(\"ZERO\")\n",
    "if x < 0:   print(\"NEGATIVE\")\n",
    "if x > 0: \n",
    "    if x > 10:  print(\"HIGH\")\n",
    "    else:       print(x)"
   ]
  },
  {
   "cell_type": "markdown",
   "metadata": {},
   "source": [
    "## Tema 3"
   ]
  },
  {
   "cell_type": "markdown",
   "metadata": {},
   "source": [
    "**EJERCICIO e3_1**"
   ]
  },
  {
   "cell_type": "code",
   "execution_count": 47,
   "metadata": {},
   "outputs": [
    {
     "name": "stdout",
     "output_type": "stream",
     "text": [
      "pedro\n",
      "juan\n",
      "maría\n"
     ]
    }
   ],
   "source": [
    "l = ['pedro', 'juan', 'maría']\n",
    "for val in l:\n",
    "    print(val)"
   ]
  },
  {
   "cell_type": "markdown",
   "metadata": {},
   "source": [
    "**EJERCICIO e3_2**"
   ]
  },
  {
   "cell_type": "code",
   "execution_count": 96,
   "metadata": {},
   "outputs": [
    {
     "name": "stdout",
     "output_type": "stream",
     "text": [
      "1: 7\n",
      "2: z\n"
     ]
    }
   ],
   "source": [
    "lx = ['a', 0, 1, 2, 'j', 3, 4, 'x', 5, 6, 7, 8, 'z']\n",
    "print(\"1:\", lx.index('x'))\n",
    "print(\"2:\", lx.pop())"
   ]
  },
  {
   "cell_type": "code",
   "execution_count": 97,
   "metadata": {},
   "outputs": [
    {
     "name": "stdout",
     "output_type": "stream",
     "text": [
      "3: ['a', 0, 1, 2, 'j', 3, 4, 'x', 5, 6, 7, 8]\n",
      "4: [0, 2, 3, 'x', 6, 8]\n"
     ]
    }
   ],
   "source": [
    "print(\"3:\", lx)\n",
    "print(\"4:\", lx[1::2])"
   ]
  },
  {
   "cell_type": "markdown",
   "metadata": {},
   "source": [
    "**EJERCICIO e3_3**"
   ]
  },
  {
   "cell_type": "code",
   "execution_count": 44,
   "metadata": {},
   "outputs": [],
   "source": [
    "r = range(5, 16)"
   ]
  },
  {
   "cell_type": "code",
   "execution_count": 45,
   "metadata": {},
   "outputs": [
    {
     "name": "stdout",
     "output_type": "stream",
     "text": [
      "[6, 7, 8, 9, 10, 11, 12, 13, 14]\n"
     ]
    }
   ],
   "source": [
    "l = list(r[1:-1])\n",
    "print(l)"
   ]
  },
  {
   "cell_type": "markdown",
   "metadata": {},
   "source": [
    "**EJERCICIO e3_4**"
   ]
  },
  {
   "cell_type": "code",
   "execution_count": 85,
   "metadata": {},
   "outputs": [
    {
     "name": "stdout",
     "output_type": "stream",
     "text": [
      "String de ejemplo\n",
      "-----------------\n",
      "Otra frase más larga que la anterior\n",
      "------------------------------------\n"
     ]
    }
   ],
   "source": [
    "s1 = \"String de ejemplo\"\n",
    "s2 = \"Otra frase más larga que la anterior\"\n",
    "v = [s1, s2]\n",
    "\n",
    "for s in v:\n",
    "    print(s)\n",
    "    print('-' * len(s))"
   ]
  },
  {
   "cell_type": "markdown",
   "metadata": {},
   "source": [
    "**EJERCICIO e3_5**"
   ]
  },
  {
   "cell_type": "code",
   "execution_count": 98,
   "metadata": {},
   "outputs": [
    {
     "name": "stdout",
     "output_type": "stream",
     "text": [
      "Este --> 1\n",
      "es --> 2\n",
      "mi --> 3\n",
      "string --> 4\n"
     ]
    }
   ],
   "source": [
    "frase = 'Este es mi string'\n",
    "pos = 1\n",
    "for palabra in frase.split():\n",
    "    print(palabra, '-->', pos)\n",
    "    pos += 1"
   ]
  },
  {
   "cell_type": "markdown",
   "metadata": {},
   "source": [
    "**EJERCICIO e3_6**"
   ]
  },
  {
   "cell_type": "code",
   "execution_count": 30,
   "metadata": {},
   "outputs": [],
   "source": [
    "v1 = 'locomotora'\n",
    "v2 = 'avión'\n",
    "v3 = 'tren'"
   ]
  },
  {
   "cell_type": "code",
   "execution_count": 33,
   "metadata": {},
   "outputs": [
    {
     "name": "stdout",
     "output_type": "stream",
     "text": [
      "locomotora\n",
      "     avión\n",
      "      tren\n"
     ]
    }
   ],
   "source": [
    "print(f'{v1:>10}')\n",
    "print(f'{v2:>10}')\n",
    "print(f'{v3:>10}')"
   ]
  },
  {
   "cell_type": "code",
   "execution_count": 32,
   "metadata": {},
   "outputs": [
    {
     "name": "stdout",
     "output_type": "stream",
     "text": [
      "Puedes ir en la locomotora del tren, o en avión\n"
     ]
    }
   ],
   "source": [
    "print(f'Puedes ir en la {v1} del {v3}, o en {v2}')"
   ]
  },
  {
   "cell_type": "markdown",
   "metadata": {},
   "source": [
    "## Tema 4"
   ]
  },
  {
   "cell_type": "markdown",
   "metadata": {},
   "source": [
    "**EJERCICIO e4_1**"
   ]
  },
  {
   "cell_type": "markdown",
   "metadata": {},
   "source": [
    "**EJERCICIO e4_2**"
   ]
  },
  {
   "cell_type": "markdown",
   "metadata": {},
   "source": [
    "**EJERCICIO e4_3**"
   ]
  },
  {
   "cell_type": "markdown",
   "metadata": {},
   "source": [
    "## Tema 5"
   ]
  },
  {
   "cell_type": "markdown",
   "metadata": {},
   "source": [
    "**EJERCICIO e5_1**"
   ]
  },
  {
   "cell_type": "code",
   "execution_count": 90,
   "metadata": {},
   "outputs": [
    {
     "name": "stdout",
     "output_type": "stream",
     "text": [
      "     2 --> 4\n",
      " -10.0 --> -20.0\n",
      "  abcd --> abcdabcd\n"
     ]
    }
   ],
   "source": [
    "def dobla(x):\n",
    "    return 2*x\n",
    "\n",
    "for val in 2, -10.0, 'abcd':\n",
    "    print(f'{val:>6} --> {dobla(val)}')"
   ]
  },
  {
   "cell_type": "markdown",
   "metadata": {},
   "source": [
    "**EJERCICIO e5_2**"
   ]
  },
  {
   "cell_type": "markdown",
   "metadata": {},
   "source": [
    "**EJERCICIO e5_3**"
   ]
  },
  {
   "cell_type": "markdown",
   "metadata": {},
   "source": [
    "**EJERCICIO e5_4**"
   ]
  },
  {
   "cell_type": "markdown",
   "metadata": {},
   "source": [
    "**EJERCICIO e5_5**"
   ]
  },
  {
   "cell_type": "markdown",
   "metadata": {},
   "source": [
    "**EJERCICIO e5_6**"
   ]
  },
  {
   "cell_type": "code",
   "execution_count": null,
   "metadata": {},
   "outputs": [],
   "source": []
  }
 ],
 "metadata": {
  "kernelspec": {
   "display_name": "Python 3",
   "language": "python",
   "name": "python3"
  },
  "language_info": {
   "codemirror_mode": {
    "name": "ipython",
    "version": 3
   },
   "file_extension": ".py",
   "mimetype": "text/x-python",
   "name": "python",
   "nbconvert_exporter": "python",
   "pygments_lexer": "ipython3",
   "version": "3.8.2"
  }
 },
 "nbformat": 4,
 "nbformat_minor": 4
}
