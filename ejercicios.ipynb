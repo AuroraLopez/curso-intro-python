{
 "cells": [
  {
   "cell_type": "markdown",
   "metadata": {},
   "source": [
    "# Soluciones a ejercicios"
   ]
  },
  {
   "cell_type": "markdown",
   "metadata": {},
   "source": [
    "## Tema 2"
   ]
  },
  {
   "cell_type": "markdown",
   "metadata": {},
   "source": [
    "**EJERCICIO e2_2**"
   ]
  },
  {
   "cell_type": "code",
   "execution_count": 3,
   "metadata": {},
   "outputs": [
    {
     "data": {
      "text/plain": [
       "4.0"
      ]
     },
     "execution_count": 3,
     "metadata": {},
     "output_type": "execute_result"
    }
   ],
   "source": [
    "# help(complex)\n",
    "a = 3 + 4j\n",
    "a.imag"
   ]
  },
  {
   "cell_type": "markdown",
   "metadata": {},
   "source": [
    "**EJERCICIO e2_3**"
   ]
  },
  {
   "cell_type": "code",
   "execution_count": 4,
   "metadata": {},
   "outputs": [
    {
     "name": "stdout",
     "output_type": "stream",
     "text": [
      "'' \t-->  Falso\n",
      "'a' \t-->  Verdadero\n"
     ]
    }
   ],
   "source": [
    "if '':  print(\"''\", '\\t-->  Verdadero')\n",
    "else:   print(\"''\", '\\t-->  Falso')\n",
    "    \n",
    "if 'a':  print(\"'a'\", '\\t-->  Verdadero')\n",
    "else:    print(\"'a'\", '\\t-->  Falso')"
   ]
  },
  {
   "cell_type": "markdown",
   "metadata": {},
   "source": [
    "**EJERCICIO e2_4**"
   ]
  },
  {
   "cell_type": "code",
   "execution_count": 5,
   "metadata": {},
   "outputs": [
    {
     "name": "stdout",
     "output_type": "stream",
     "text": [
      "[0] \t-->  Verdadero\n"
     ]
    }
   ],
   "source": [
    "if [0]:  print([0], '\\t-->  Verdadero')\n",
    "else:    print([0], '\\t-->  Falso')"
   ]
  },
  {
   "cell_type": "markdown",
   "metadata": {},
   "source": [
    "**EJERCICIO e2_5**"
   ]
  },
  {
   "cell_type": "code",
   "execution_count": 9,
   "metadata": {},
   "outputs": [
    {
     "name": "stdout",
     "output_type": "stream",
     "text": [
      "4 != 5 \t-->  Verdadero\n",
      "3 < 2 \t-->  Falso\n",
      "2 >= 2 \t-->  Verdadero\n"
     ]
    }
   ],
   "source": [
    "if 4 != 5:  print('4 != 5', '\\t-->  Verdadero')\n",
    "else:    print('4 != 5', '\\t-->  Falso')\n",
    "    \n",
    "if 3 < 2:  print('3 < 2', '\\t-->  Verdadero')\n",
    "else:    print('3 < 2', '\\t-->  Falso')\n",
    "    \n",
    "if 2 >= 2:  print('2 >= 2', '\\t-->  Verdadero')\n",
    "else:    print('2 >= 2', '\\t-->  Falso')"
   ]
  },
  {
   "cell_type": "markdown",
   "metadata": {},
   "source": [
    "## Tema 3"
   ]
  },
  {
   "cell_type": "markdown",
   "metadata": {},
   "source": [
    "**EJERCICIO e3_1**"
   ]
  },
  {
   "cell_type": "code",
   "execution_count": 47,
   "metadata": {},
   "outputs": [
    {
     "name": "stdout",
     "output_type": "stream",
     "text": [
      "pedro\n",
      "juan\n",
      "maría\n"
     ]
    }
   ],
   "source": [
    "l = ['pedro', 'juan', 'maría']\n",
    "for val in l:\n",
    "    print(val)"
   ]
  },
  {
   "cell_type": "markdown",
   "metadata": {},
   "source": [
    "**EJERCICIO e3_2**"
   ]
  },
  {
   "cell_type": "code",
   "execution_count": 36,
   "metadata": {},
   "outputs": [],
   "source": [
    "lx = ['a', 0, 1, 2, 'j', 3, 4, 'x', 5, 6, 7, 8, 'z']"
   ]
  },
  {
   "cell_type": "code",
   "execution_count": 37,
   "metadata": {},
   "outputs": [
    {
     "name": "stdout",
     "output_type": "stream",
     "text": [
      "1: 7 \n",
      "2: z      \n"
     ]
    }
   ],
   "source": [
    "print(f\"1: {lx.index('x')} \")\n",
    "print(f\"2: {lx.pop()}      \")"
   ]
  },
  {
   "cell_type": "code",
   "execution_count": 39,
   "metadata": {},
   "outputs": [
    {
     "name": "stdout",
     "output_type": "stream",
     "text": [
      "3: ['a', 0, 1, 2, 'j', 3, 4, 'x', 5, 6, 7, 8]       \n",
      "4: [0, 2, 3, 'x', 6, 8] \n"
     ]
    }
   ],
   "source": [
    "print(f\"3: {lx}       \")\n",
    "print(f\"4: {lx[1::2]} \")"
   ]
  },
  {
   "cell_type": "markdown",
   "metadata": {},
   "source": [
    "**EJERCICIO e3_3**"
   ]
  },
  {
   "cell_type": "code",
   "execution_count": 44,
   "metadata": {},
   "outputs": [],
   "source": [
    "r = range(5, 16)"
   ]
  },
  {
   "cell_type": "code",
   "execution_count": 45,
   "metadata": {},
   "outputs": [
    {
     "name": "stdout",
     "output_type": "stream",
     "text": [
      "[6, 7, 8, 9, 10, 11, 12, 13, 14]\n"
     ]
    }
   ],
   "source": [
    "l = list(r[1:-1])\n",
    "print(l)"
   ]
  },
  {
   "cell_type": "markdown",
   "metadata": {},
   "source": [
    "**EJERCICIO e3_4**"
   ]
  },
  {
   "cell_type": "code",
   "execution_count": 49,
   "metadata": {},
   "outputs": [
    {
     "name": "stdout",
     "output_type": "stream",
     "text": [
      "Este: 1\n",
      "es: 2\n",
      "mi: 3\n",
      "string: 4\n"
     ]
    }
   ],
   "source": [
    "frase = 'Este es mi string'\n",
    "pos = 1\n",
    "for palabra in frase.split():\n",
    "    print(f'{palabra}: {pos}')\n",
    "    pos += 1"
   ]
  },
  {
   "cell_type": "markdown",
   "metadata": {},
   "source": [
    "**EJERCICIO e3_5**"
   ]
  },
  {
   "cell_type": "code",
   "execution_count": 30,
   "metadata": {},
   "outputs": [],
   "source": [
    "v1 = 'locomotora'\n",
    "v2 = 'avión'\n",
    "v3 = 'tren'"
   ]
  },
  {
   "cell_type": "code",
   "execution_count": 33,
   "metadata": {},
   "outputs": [
    {
     "name": "stdout",
     "output_type": "stream",
     "text": [
      "locomotora\n",
      "     avión\n",
      "      tren\n"
     ]
    }
   ],
   "source": [
    "print(f'{v1:>10}')\n",
    "print(f'{v2:>10}')\n",
    "print(f'{v3:>10}')"
   ]
  },
  {
   "cell_type": "code",
   "execution_count": 32,
   "metadata": {},
   "outputs": [
    {
     "name": "stdout",
     "output_type": "stream",
     "text": [
      "Puedes ir en la locomotora del tren, o en avión\n"
     ]
    }
   ],
   "source": [
    "print(f'Puedes ir en la {v1} del {v3}, o en {v2}')"
   ]
  }
 ],
 "metadata": {
  "kernelspec": {
   "display_name": "Python 3",
   "language": "python",
   "name": "python3"
  },
  "language_info": {
   "codemirror_mode": {
    "name": "ipython",
    "version": 3
   },
   "file_extension": ".py",
   "mimetype": "text/x-python",
   "name": "python",
   "nbconvert_exporter": "python",
   "pygments_lexer": "ipython3",
   "version": "3.8.2"
  }
 },
 "nbformat": 4,
 "nbformat_minor": 4
}
