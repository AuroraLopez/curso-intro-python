{
 "cells": [
  {
   "cell_type": "markdown",
   "metadata": {
    "slideshow": {
     "slide_type": "slide"
    }
   },
   "source": [
    "<font size=6>\n",
    "\n",
    "<b>Curso de Introducción a la Programación en Python</b>\n",
    "</font>\n",
    "\n",
    "<font size=4>\n",
    "    \n",
    "Curso de formación interna, CIEMAT \n",
    "Junio, 2020\n",
    "\n",
    "Antonio Delgado Peris\n",
    "</font>\n",
    "\n",
    "some url.. \n",
    "\n",
    "<br/>\n",
    "<br/>"
   ]
  },
  {
   "cell_type": "markdown",
   "metadata": {},
   "source": [
    "# Tema 3 - Secuencias y diccionarios"
   ]
  },
  {
   "cell_type": "markdown",
   "metadata": {},
   "source": [
    "## Objetivos\n",
    "\n",
    "- Introducir el concepto de _iterable_ en Python\n",
    "\n",
    "\n",
    "- Conocer cómo funcionan las secuencias en Python\n",
    "  - Son tipos _built-in_, muy eficientes, y útiles\n",
    "  \n",
    "  \n",
    "- Conocer el bucle `for`"
   ]
  },
  {
   "cell_type": "markdown",
   "metadata": {},
   "source": [
    "## Iterables\n",
    "\n",
    "Un _iterable_ en Python es un objeto que puede recorrerse elemento a elemento.\n",
    "\n",
    "- Ejemplos de iterables son las secuencias (listas, tuplas, etc.), pero también los diccionarios, y otros.\n",
    "\n",
    "Muchas funciones o operadores son capaces de actuar sobre un iterable, no importa qué otras características tenga.\n",
    "\n",
    "- Por ejemplo, la función `len` devuelve la longitud del iterable (cuántos elementos tiene), sea del tipo que sea."
   ]
  },
  {
   "cell_type": "code",
   "execution_count": 60,
   "metadata": {},
   "outputs": [
    {
     "data": {
      "text/plain": [
       "3"
      ]
     },
     "execution_count": 60,
     "metadata": {},
     "output_type": "execute_result"
    }
   ],
   "source": [
    "l = ['pedro', 'juan', 'maría'] # 'l' es un iterable de tipo 'list'\n",
    "len(l)"
   ]
  },
  {
   "cell_type": "markdown",
   "metadata": {},
   "source": [
    "Técnicamente, un iterable es un objeto que define el método especial `__iter__()` (que devuelve un objeto _iterador_ (_iterator_).\n",
    "\n",
    "- No nos vamos a ocupar de estos conceptos avanzados ahora, aunque volveremos a ello en un tema posterior.\n",
    "\n",
    "Un tipo concreto de iterable son los generadores (_generators_), con la particularidad que utilizan _lazy evaluation_.\n",
    "\n",
    "- _Lazy evaluation_ (evaluación perezosa) significa que el objeto no almacena todos los valores que contiene, sino que los _genera_ sobre la marcha, cuando se le solicitan.\n",
    "\n",
    "- En este tema, veremos un ejemplo de generador, el tipo `range`, pero, de nueov, volveremos a ellos."
   ]
  },
  {
   "cell_type": "markdown",
   "metadata": {},
   "source": [
    "## La sentencia FOR\n",
    "\n",
    "La sentencia `for` recorre los elementos de un iterable y ejecuta un conjunto de instrucciones una vez por cada uno de esos elementos.\n",
    "\n",
    "- En cada iteración, el elemento correspondiente está disponible en la variable indicada.\n",
    "\n",
    "Forma general:\n",
    "\n",
    "    for <variable> in <iterable>:\n",
    "        statement\n",
    "        statement\n",
    "        ...\n",
    "\n",
    "   "
   ]
  },
  {
   "cell_type": "markdown",
   "metadata": {},
   "source": [
    "**EJERCICIO e3_1:** Usando `for`, recorrer la lista `l` (definida antes), y mostrar cada elemento en una línea diferente."
   ]
  },
  {
   "cell_type": "code",
   "execution_count": 62,
   "metadata": {},
   "outputs": [],
   "source": [
    "# for "
   ]
  },
  {
   "cell_type": "markdown",
   "metadata": {},
   "source": [
    "## Secuencias\n",
    "\n",
    "Las secuencias son contenedores de elementos, iterables, y que permiten acceso aleatorio usando un índice entero (`object[index]`).\n",
    "\n",
    "Los principales tipos de secuencias son:\n",
    "\n",
    "- Tuplas y listas\n",
    "- Ranges\n",
    "- Sets y frozensets\n",
    "- Strings"
   ]
  },
  {
   "cell_type": "markdown",
   "metadata": {},
   "source": [
    "### Tuplas y listas\n",
    "\n",
    "Secuencias ordenadas de cualquier tipo de elementos\n",
    "\n",
    "- Inmutables: tuplas `(x, y...)`\n",
    "- Modificables: listas `[x, y...]`\n",
    "\n",
    "#### Listas"
   ]
  },
  {
   "cell_type": "code",
   "execution_count": 30,
   "metadata": {},
   "outputs": [
    {
     "name": "stdout",
     "output_type": "stream",
     "text": [
      "[0, 2, 4]\n",
      "3\n",
      "4\n"
     ]
    }
   ],
   "source": [
    "l1 = [1, 2]   # Create list\n",
    "l1[0] = 0     # Modify first element\n",
    "l1.append(4)  # Append an element\n",
    "print(l1)\n",
    "print(len(l1))\n",
    "print(max(l1))"
   ]
  },
  {
   "cell_type": "code",
   "execution_count": 25,
   "metadata": {},
   "outputs": [
    {
     "name": "stdout",
     "output_type": "stream",
     "text": [
      "[0, 2, 3]\n",
      "0\n",
      "4\n"
     ]
    }
   ],
   "source": [
    "l2 = ['a', l1, 4]\n",
    "print(l2[1])       # Access element by index\n",
    "print(l2[1][0])    # Access element of list element\n",
    "print(l2[-1])      # Access last element"
   ]
  },
  {
   "cell_type": "code",
   "execution_count": 27,
   "metadata": {},
   "outputs": [
    {
     "name": "stdout",
     "output_type": "stream",
     "text": [
      "True\n",
      "False\n"
     ]
    }
   ],
   "source": [
    "print(4 in l2)\n",
    "print(4 not in l2)"
   ]
  },
  {
   "cell_type": "markdown",
   "metadata": {},
   "source": [
    "- El operador `slice` (inicio:fin:paso) devuelve una nueva lista"
   ]
  },
  {
   "cell_type": "code",
   "execution_count": 72,
   "metadata": {},
   "outputs": [
    {
     "name": "stdout",
     "output_type": "stream",
     "text": [
      "[[0, 2, 3], 4]\n",
      "['a', [0, 2, 3]]\n"
     ]
    }
   ],
   "source": [
    "print(l2[1:3])   \n",
    "print(l2[:2])"
   ]
  },
  {
   "cell_type": "markdown",
   "metadata": {},
   "source": [
    "**EJERCICIO e3_2:** Dada la siguiente lista `lx`...\n",
    "\n",
    "- Buscar (`help`) métodos para:\n",
    "  - Mostrar el índice que ocupa el elemento `'x'`\n",
    "  - Extraer el último elemento de la lista (eliminándolo de la lista)\n",
    "- Usando slice, mostrar un elemento de cada dos, empezando por el segundo"
   ]
  },
  {
   "cell_type": "code",
   "execution_count": 71,
   "metadata": {},
   "outputs": [],
   "source": [
    "lx = ['a', 0, 1, 2, 'j', 3, 4, 'x', 5, 6, 7, 8, 'z']\n",
    "#"
   ]
  },
  {
   "cell_type": "markdown",
   "metadata": {},
   "source": [
    "- Otras operaciones con listas:"
   ]
  },
  {
   "cell_type": "code",
   "execution_count": 73,
   "metadata": {},
   "outputs": [
    {
     "name": "stdout",
     "output_type": "stream",
     "text": [
      "[0, 1, 2, 3, 4]\n"
     ]
    }
   ],
   "source": [
    "print([0, 1, 2] + [3, 4])"
   ]
  },
  {
   "cell_type": "code",
   "execution_count": 74,
   "metadata": {},
   "outputs": [
    {
     "name": "stdout",
     "output_type": "stream",
     "text": [
      "[5, 5, 5]\n"
     ]
    }
   ],
   "source": [
    "print([5]*3)"
   ]
  },
  {
   "cell_type": "code",
   "execution_count": 75,
   "metadata": {},
   "outputs": [
    {
     "name": "stdout",
     "output_type": "stream",
     "text": [
      "[1, 2, 1, 2, 1, 2]\n"
     ]
    }
   ],
   "source": [
    "print([1,2]*3)"
   ]
  },
  {
   "cell_type": "markdown",
   "metadata": {},
   "source": [
    "#### Tuplas\n",
    "\n",
    "Las tuplas son como las listas, excepto por su inmutabilidad"
   ]
  },
  {
   "cell_type": "code",
   "execution_count": 23,
   "metadata": {},
   "outputs": [
    {
     "ename": "TypeError",
     "evalue": "'tuple' object does not support item assignment",
     "output_type": "error",
     "traceback": [
      "\u001b[0;31m---------------------------------------------------------------------------\u001b[0m",
      "\u001b[0;31mTypeError\u001b[0m                                 Traceback (most recent call last)",
      "\u001b[0;32m<ipython-input-23-a583e108c159>\u001b[0m in \u001b[0;36m<module>\u001b[0;34m\u001b[0m\n\u001b[1;32m      1\u001b[0m \u001b[0mt1\u001b[0m \u001b[0;34m=\u001b[0m \u001b[0;34m(\u001b[0m\u001b[0;36m0\u001b[0m\u001b[0;34m,\u001b[0m \u001b[0;34m)\u001b[0m\u001b[0;34m\u001b[0m\u001b[0;34m\u001b[0m\u001b[0m\n\u001b[0;32m----> 2\u001b[0;31m \u001b[0mt1\u001b[0m\u001b[0;34m[\u001b[0m\u001b[0;36m0\u001b[0m\u001b[0;34m]\u001b[0m \u001b[0;34m=\u001b[0m \u001b[0;36m2\u001b[0m\u001b[0;34m\u001b[0m\u001b[0;34m\u001b[0m\u001b[0m\n\u001b[0m",
      "\u001b[0;31mTypeError\u001b[0m: 'tuple' object does not support item assignment"
     ]
    }
   ],
   "source": [
    "t1 = (0, )\n",
    "t1[0] = 2"
   ]
  },
  {
   "cell_type": "code",
   "execution_count": 24,
   "metadata": {},
   "outputs": [
    {
     "ename": "AttributeError",
     "evalue": "'tuple' object has no attribute 'append'",
     "output_type": "error",
     "traceback": [
      "\u001b[0;31m---------------------------------------------------------------------------\u001b[0m",
      "\u001b[0;31mAttributeError\u001b[0m                            Traceback (most recent call last)",
      "\u001b[0;32m<ipython-input-24-465502180f69>\u001b[0m in \u001b[0;36m<module>\u001b[0;34m\u001b[0m\n\u001b[0;32m----> 1\u001b[0;31m \u001b[0mt1\u001b[0m\u001b[0;34m.\u001b[0m\u001b[0mappend\u001b[0m\u001b[0;34m\u001b[0m\u001b[0;34m\u001b[0m\u001b[0m\n\u001b[0m",
      "\u001b[0;31mAttributeError\u001b[0m: 'tuple' object has no attribute 'append'"
     ]
    }
   ],
   "source": [
    "t1.append"
   ]
  },
  {
   "cell_type": "markdown",
   "metadata": {},
   "source": [
    "- La tupla también se puede definir sin paréntesis, si no existe ambigüedad"
   ]
  },
  {
   "cell_type": "code",
   "execution_count": 65,
   "metadata": {},
   "outputs": [
    {
     "data": {
      "text/plain": [
       "('a', 'b', 'c')"
      ]
     },
     "execution_count": 65,
     "metadata": {},
     "output_type": "execute_result"
    }
   ],
   "source": [
    "t = 'a', 'b', 'c'\n",
    "t"
   ]
  },
  {
   "cell_type": "markdown",
   "metadata": {},
   "source": [
    "- Y se puede usar para asignaciones múltiples"
   ]
  },
  {
   "cell_type": "code",
   "execution_count": 68,
   "metadata": {},
   "outputs": [
    {
     "name": "stdout",
     "output_type": "stream",
     "text": [
      "10\n",
      "20\n"
     ]
    }
   ],
   "source": [
    "x1, x2 = (10, 20)\n",
    "print(x1)\n",
    "print(x2)"
   ]
  },
  {
   "cell_type": "markdown",
   "metadata": {},
   "source": [
    "### Ranges\n",
    "\n",
    "Secuencias inmutables y ordenadas de enteros, evaluadas _perezosamente_\n",
    "\n",
    "`range(start, stop, step)`\n",
    "\n",
    "- _Lazy evaluation_ significa que el objeto solo almacena _inicio_, _final_, _paso_, y calcula los valores necearios cuando se solicita.\n",
    "- Muy usados p. ej. en bucles (`for`)"
   ]
  },
  {
   "cell_type": "code",
   "execution_count": 31,
   "metadata": {},
   "outputs": [
    {
     "name": "stdout",
     "output_type": "stream",
     "text": [
      "0\n",
      "1\n",
      "2\n",
      "3\n",
      "4\n"
     ]
    }
   ],
   "source": [
    "for val in range(5):  print(val)"
   ]
  },
  {
   "cell_type": "code",
   "execution_count": 37,
   "metadata": {},
   "outputs": [
    {
     "name": "stdout",
     "output_type": "stream",
     "text": [
      "range(0, 10, 2)\n",
      "[0, 2, 4, 6, 8]\n"
     ]
    }
   ],
   "source": [
    "r = range(0, 10, 2)\n",
    "print(r)\n",
    "print(list(r))"
   ]
  },
  {
   "cell_type": "markdown",
   "metadata": {},
   "source": [
    "**EJERCICIO e3_3:** \n",
    "\n",
    "- Crear un _range_ de enteros del 5 al 15 (ambos inclusive)\n",
    "- Crear una lista de enteros del 6 al 14 (inclusive), usando el _range_ definido anteriormente"
   ]
  },
  {
   "cell_type": "markdown",
   "metadata": {},
   "source": [
    "### Sets\n",
    "\n",
    "Los _sets_ son secuencias de elementos con las mismas características que las listas, pero sin repetición ni orden de elementos."
   ]
  },
  {
   "cell_type": "code",
   "execution_count": 99,
   "metadata": {},
   "outputs": [
    {
     "name": "stdout",
     "output_type": "stream",
     "text": [
      "{0, 1, 2}\n"
     ]
    }
   ],
   "source": [
    "s = {0, 0, 2, 1, 1}\n",
    "print(s)"
   ]
  },
  {
   "cell_type": "code",
   "execution_count": 100,
   "metadata": {},
   "outputs": [
    {
     "name": "stdout",
     "output_type": "stream",
     "text": [
      "{0, 1, 2, 4}\n"
     ]
    }
   ],
   "source": [
    "s.add(4)\n",
    "s.add(1)\n",
    "print(s)"
   ]
  },
  {
   "cell_type": "code",
   "execution_count": 110,
   "metadata": {},
   "outputs": [
    {
     "name": "stdout",
     "output_type": "stream",
     "text": [
      "True False\n",
      "4\n"
     ]
    }
   ],
   "source": [
    "print(0 in s, 5 in s)\n",
    "print(len(s))"
   ]
  },
  {
   "cell_type": "markdown",
   "metadata": {},
   "source": [
    "Los _frozensets_ son como los sets, pero inmutables."
   ]
  },
  {
   "cell_type": "code",
   "execution_count": 108,
   "metadata": {},
   "outputs": [
    {
     "name": "stdout",
     "output_type": "stream",
     "text": [
      "frozenset({3, 4})\n"
     ]
    }
   ],
   "source": [
    "fs = frozenset((3, 4))\n",
    "print(fs)"
   ]
  },
  {
   "cell_type": "code",
   "execution_count": 109,
   "metadata": {},
   "outputs": [
    {
     "ename": "AttributeError",
     "evalue": "'frozenset' object has no attribute 'add'",
     "output_type": "error",
     "traceback": [
      "\u001b[0;31m---------------------------------------------------------------------------\u001b[0m",
      "\u001b[0;31mAttributeError\u001b[0m                            Traceback (most recent call last)",
      "\u001b[0;32m<ipython-input-109-afe88ce7c701>\u001b[0m in \u001b[0;36m<module>\u001b[0;34m\u001b[0m\n\u001b[0;32m----> 1\u001b[0;31m \u001b[0mfs\u001b[0m\u001b[0;34m.\u001b[0m\u001b[0madd\u001b[0m\u001b[0;34m(\u001b[0m\u001b[0;36m0\u001b[0m\u001b[0;34m)\u001b[0m\u001b[0;34m\u001b[0m\u001b[0;34m\u001b[0m\u001b[0m\n\u001b[0m",
      "\u001b[0;31mAttributeError\u001b[0m: 'frozenset' object has no attribute 'add'"
     ]
    }
   ],
   "source": [
    "fs.add(0)"
   ]
  },
  {
   "cell_type": "markdown",
   "metadata": {},
   "source": [
    "### Strings\n",
    "\n",
    "Cadenas *inmutables* de caracteres\n",
    "\n",
    "- En su manera más simple (y habitual), se definen con `'` o `\"`, de varias formas:"
   ]
  },
  {
   "cell_type": "code",
   "execution_count": 158,
   "metadata": {},
   "outputs": [
    {
     "name": "stdout",
     "output_type": "stream",
     "text": [
      "My string\n",
      "My string\n",
      "My string with \"double commas\" inside\n",
      "My string with 'simple commas' and \n",
      "line breaks inside\n"
     ]
    }
   ],
   "source": [
    "print('My string')\n",
    "print(\"My string\")\n",
    "\n",
    "print('My string with \"double commas\" inside')\n",
    "print('''My string with 'simple commas' and \n",
    "line breaks inside''')"
   ]
  },
  {
   "cell_type": "markdown",
   "metadata": {},
   "source": [
    "- Como sus caracteres pueden recorrerse uno a uno (son _iterables_), los strings también son secuencias.\n",
    "\n",
    "  - Eso implica que aceptan muchos métodos de secuencias, y se pueden usar en un bucle `for`."
   ]
  },
  {
   "cell_type": "code",
   "execution_count": 55,
   "metadata": {},
   "outputs": [
    {
     "name": "stdout",
     "output_type": "stream",
     "text": [
      "Longitud de v1: 17\n"
     ]
    }
   ],
   "source": [
    "v1 = \"Este es mi string\"\n",
    "print(\"Longitud de v1:\", len(v1))"
   ]
  },
  {
   "cell_type": "code",
   "execution_count": 81,
   "metadata": {},
   "outputs": [
    {
     "name": "stdout",
     "output_type": "stream",
     "text": [
      "xxxxx\n"
     ]
    }
   ],
   "source": [
    "print('x'*5)"
   ]
  },
  {
   "cell_type": "code",
   "execution_count": 78,
   "metadata": {},
   "outputs": [
    {
     "name": "stdout",
     "output_type": "stream",
     "text": [
      "m__i__ __s__t__r__i__n__g__"
     ]
    }
   ],
   "source": [
    "for char in v1[8:]:\n",
    "    print(char, end='__')"
   ]
  },
  {
   "cell_type": "markdown",
   "metadata": {},
   "source": [
    "<br/>\n",
    "\n",
    "**EJERCICIO e3_4:** Dado una serie de strings `v = [...]`, de longitudes arbitrarias, escribir cada uno en líneas diferentes, subrayados con una cadena de guiones igual de larga que el string."
   ]
  },
  {
   "cell_type": "code",
   "execution_count": 83,
   "metadata": {},
   "outputs": [],
   "source": [
    "s1 = \"String de ejemplo\"\n",
    "s2 = \"Otra frase más larga que la anterior\"\n",
    "v = [s1, s2]"
   ]
  },
  {
   "cell_type": "markdown",
   "metadata": {},
   "source": [
    "- Una manera avanzada de definir strings largos es concatenarlas con espacios o saltos de líneas"
   ]
  },
  {
   "cell_type": "code",
   "execution_count": 161,
   "metadata": {},
   "outputs": [
    {
     "name": "stdout",
     "output_type": "stream",
     "text": [
      "two strings auto-concatenated\n",
      "also with line breaks\n"
     ]
    }
   ],
   "source": [
    "s = 'two strings ' 'auto-concatenated'\n",
    "print(s)\n",
    "s2 = ('also '\n",
    "      'with '\n",
    "      'line breaks')\n",
    "print(s2)"
   ]
  },
  {
   "cell_type": "markdown",
   "metadata": {},
   "source": [
    "- No existe un tipo `char`, solo `str`:"
   ]
  },
  {
   "cell_type": "code",
   "execution_count": 127,
   "metadata": {},
   "outputs": [
    {
     "name": "stdout",
     "output_type": "stream",
     "text": [
      "<class 'str'>\n",
      "<class 'str'>\n"
     ]
    }
   ],
   "source": [
    "print(type(s))\n",
    "print(type('a'))"
   ]
  },
  {
   "cell_type": "markdown",
   "metadata": {},
   "source": [
    "- Son inmutables (no se pueden modificar)\n",
    "- Si se realizan operaciones sobre ellas, se crea un nuevo string"
   ]
  },
  {
   "cell_type": "code",
   "execution_count": 130,
   "metadata": {},
   "outputs": [
    {
     "name": "stdout",
     "output_type": "stream",
     "text": [
      "juan JUAN\n"
     ]
    }
   ],
   "source": [
    "a = 'juan'\n",
    "b = a.upper()\n",
    "print(a, b)"
   ]
  },
  {
   "cell_type": "markdown",
   "metadata": {},
   "source": [
    "- Se pueden incluir caracteres _especiales_ con `\\`"
   ]
  },
  {
   "cell_type": "code",
   "execution_count": 154,
   "metadata": {},
   "outputs": [
    {
     "name": "stdout",
     "output_type": "stream",
     "text": [
      "Ejemplo: \t: un tabulador, \n",
      ": un salto de línea, o la propia \\\n"
     ]
    }
   ],
   "source": [
    "print(\"Ejemplo: \\t: un tabulador, \\n: un salto de línea, o la propia \\\\\")"
   ]
  },
  {
   "cell_type": "markdown",
   "metadata": {},
   "source": [
    "- Pero con el modificador `r`, creamos _raw strings_, que no interpretan nada:"
   ]
  },
  {
   "cell_type": "code",
   "execution_count": 155,
   "metadata": {},
   "outputs": [
    {
     "name": "stdout",
     "output_type": "stream",
     "text": [
      "En este ejemplo no hay nada especial: \\t \\n \\\\\n"
     ]
    }
   ],
   "source": [
    "print(r\"En este ejemplo no hay nada especial: \\t \\n \\\\\")"
   ]
  },
  {
   "cell_type": "markdown",
   "metadata": {},
   "source": [
    "- En algunos contextos (p.ej. con `print`) un objeto se convierte automáticamente a string\n",
    "- Pero la función `str` permite hacerlo explícitamente"
   ]
  },
  {
   "cell_type": "code",
   "execution_count": 151,
   "metadata": {},
   "outputs": [
    {
     "name": "stdout",
     "output_type": "stream",
     "text": [
      "Muestro un entero: 3\n",
      "O un string: 3\n",
      "<class 'int'> <class 'str'>\n"
     ]
    }
   ],
   "source": [
    "print('Muestro un entero:', 3)\n",
    "print('O un string:', str(3))\n",
    "print(type(3), type(str(3)))"
   ]
  },
  {
   "cell_type": "markdown",
   "metadata": {},
   "source": [
    "- Como en todos los demás casos, los objetos string soportan varios métodos\n",
    "\n",
    "**EJERCICIO e3_5:** \n",
    "- Consultar la ayuda de `str`, y buscar la manera de separar un string por espacios.\n",
    "- Crear un bucle que recorra cada palabra de `frase` y muestre la palabra y su posición en la frase."
   ]
  },
  {
   "cell_type": "code",
   "execution_count": 64,
   "metadata": {},
   "outputs": [],
   "source": [
    "frase = 'Este es mi string'\n",
    "# Salida esperada:\n",
    "#  Este: 1\n",
    "#  es: 2\n",
    "#  mi: 3\n",
    "#  string: 4"
   ]
  },
  {
   "cell_type": "markdown",
   "metadata": {},
   "source": [
    "- Existen varias maneras de formatear strings e incluir valores de variables:\n",
    "  - Método más antiguo: operador `%`\n",
    "  - Método antiguo: función `format` (python 2.7 y python 3)\n",
    "  - Método más reciente: _fstrings_  (solo desde python 3.6)\n",
    "    - En general, es el que usaremos en este notebook\n",
    "    - Pero los otros aparecen habitualmente, así que conviene saber _leerlos_"
   ]
  },
  {
   "cell_type": "code",
   "execution_count": 138,
   "metadata": {},
   "outputs": [
    {
     "name": "stdout",
     "output_type": "stream",
     "text": [
      "My var is 3, or 3.000000\n",
      "My var is 3, or 3.000000\n",
      "My var is 3, or 3.000000\n"
     ]
    }
   ],
   "source": [
    "var = 3\n",
    "print(\"My var is %s, or %f\" % (var, var))\n",
    "print(\"My var is {0}, or {0:f}\".format(var))\n",
    "print(f\"My var is {var}, or {var:f}\")"
   ]
  },
  {
   "cell_type": "markdown",
   "metadata": {},
   "source": [
    "- Las _fstrings_ soportan operaciones arbitrarias y de formato (usando `:<modificador>`) en sus expresiones."
   ]
  },
  {
   "cell_type": "code",
   "execution_count": 149,
   "metadata": {},
   "outputs": [
    {
     "name": "stdout",
     "output_type": "stream",
     "text": [
      "Twice my var is: 6\n",
      "Precision: 3.00\n",
      "Padding:        3\n",
      "Padding with char: _______3\n",
      "Inverse adding: 3_______, see?\n"
     ]
    }
   ],
   "source": [
    "print(f'Twice my var is: {2*var}')\n",
    "print(f'Precision: {var:.2f}')\n",
    "print(f'Padding: {var:8}')\n",
    "print(f'Padding with char: {var:_>8}')\n",
    "print(f'Inverse adding: {var:_<8}, see?')"
   ]
  },
  {
   "cell_type": "markdown",
   "metadata": {},
   "source": [
    "**EJERCICIO e3_6:** Usando las variables `v1`, `v2`, `v3` dadas...\n",
    "\n",
    "- Mostrarlas en tres líneas, alineadas a la derecha\n",
    "- Mostrar la línea `Puedes ir en la locomotora del tren, o en avión`."
   ]
  },
  {
   "cell_type": "code",
   "execution_count": 162,
   "metadata": {},
   "outputs": [],
   "source": [
    "v1 = 'locomotora'\n",
    "v2 = 'avión'\n",
    "v3 = 'tren'"
   ]
  },
  {
   "cell_type": "code",
   "execution_count": 170,
   "metadata": {},
   "outputs": [],
   "source": [
    "# Completar"
   ]
  }
 ],
 "metadata": {
  "kernelspec": {
   "display_name": "Python 3",
   "language": "python",
   "name": "python3"
  },
  "language_info": {
   "codemirror_mode": {
    "name": "ipython",
    "version": 3
   },
   "file_extension": ".py",
   "mimetype": "text/x-python",
   "name": "python",
   "nbconvert_exporter": "python",
   "pygments_lexer": "ipython3",
   "version": "3.8.2"
  }
 },
 "nbformat": 4,
 "nbformat_minor": 4
}
