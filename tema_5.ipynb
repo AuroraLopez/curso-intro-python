{
 "cells": [
  {
   "cell_type": "markdown",
   "metadata": {
    "slideshow": {
     "slide_type": "slide"
    }
   },
   "source": [
    "<font size=6>\n",
    "\n",
    "<b>Curso de Introducción a la Programación en Python</b>\n",
    "</font>\n",
    "\n",
    "<font size=4>\n",
    "    \n",
    "Curso de formación interna, CIEMAT \n",
    "Junio, 2020\n",
    "\n",
    "Antonio Delgado Peris\n",
    "</font>\n",
    "\n",
    "some url.. \n",
    "\n",
    "<br/>\n",
    "<br/>"
   ]
  },
  {
   "cell_type": "markdown",
   "metadata": {},
   "source": [
    "# Tema 5 - Funciones"
   ]
  },
  {
   "cell_type": "markdown",
   "metadata": {},
   "source": [
    "## Objetivos\n",
    "\n",
    "- Aprender a definir funciones y utilizarlas\n",
    "\n",
    "- Entender las diferentes maneras de pasar argumentos a una función \n",
    "\n",
    "- Introducir el _scope_ (alcance) y _namespaces_ de los objetos Python, en particular para el caso de las funciones\n"
   ]
  },
  {
   "cell_type": "markdown",
   "metadata": {},
   "source": [
    "## Funciones\n",
    "\n",
    "Una función es un bloque de instrucciones que se ejecutan cuando la función es llamada.\n",
    "\n",
    "- Permiten reutilizar código, sin tener que reescribirlo.\n",
    "- Son esenciales para cualquier programa no trivial.\n",
    "\n",
    "Una función se define con la sentencia `def`:\n",
    "\n",
    "    def mi_funcion(arg1, arg2, ...):\n",
    "        instruccion\n",
    "        instruccion\n",
    "       \n",
    "- La ejecución de la sentencia `def` crear un nuevo _objeto función_ ligado al nombre `mi_funcion`.\n",
    "- El _cuerpo_ de la función no se interpreta hasta que la función es usada: `mi_funcion(args)`\n",
    "\n",
    "En el cuerpo de la función:\n",
    "\n",
    "- Los identificadores de argumentos se pueden usar como variables locales\n",
    "- La sentencia `return` especifica el valor devuelto por la función (por defecto es `None`)"
   ]
  },
  {
   "cell_type": "code",
   "execution_count": 6,
   "metadata": {},
   "outputs": [
    {
     "name": "stdout",
     "output_type": "stream",
     "text": [
      "7\n"
     ]
    }
   ],
   "source": [
    "def suma(x, y):\n",
    "     res = x + y\n",
    "     return res\n",
    "\n",
    "s = suma(3, 4)\n",
    "print(s)"
   ]
  },
  {
   "cell_type": "markdown",
   "metadata": {},
   "source": [
    "**EJERCICIO e5_1:** \n",
    "\n",
    "- Crear una función que acepte un argumento numérico y que devuelva el doble del valor pasado.\n",
    "- Probarla con las siguientes entradas: `2`, `-10.0`, `'abcd'`"
   ]
  },
  {
   "cell_type": "markdown",
   "metadata": {},
   "source": [
    "## Argumentos de funciones\n",
    "\n",
    "Los argumentos de una función de Python se _pasan por asignación_ (equivalente a _por referencia_)..\n",
    "\n",
    "- El valor pasado _se asigna_ a una variable local (no se hace una copia)\n",
    "- Si el valor es modificable, y se modifica, la variable externa verá el mismo cambio\n",
    "- Como las variables no tienen tipo, tampoco lo tienen los argumentos de una función"
   ]
  },
  {
   "cell_type": "code",
   "execution_count": 19,
   "metadata": {},
   "outputs": [
    {
     "name": "stdout",
     "output_type": "stream",
     "text": [
      "-- Org v: [0, 1]\n",
      "-- New v: [0, 1, 2]\n",
      "\n",
      "Returned: [0, 1, 2]\n"
     ]
    }
   ],
   "source": [
    "def addElem(v, val):\n",
    "    print(\"-- Org v:\", v)\n",
    "    v += (val, )\n",
    "    print(\"-- New v:\", v)\n",
    "\n",
    "nums = [0, 1]\n",
    "addElem(nums, 2)\n",
    "print('\\nReturned:', nums)"
   ]
  },
  {
   "cell_type": "code",
   "execution_count": 21,
   "metadata": {},
   "outputs": [
    {
     "name": "stdout",
     "output_type": "stream",
     "text": [
      "-- Org v: (0, 1)\n",
      "-- New v: (0, 1, 2)\n",
      "\n",
      "Returned: (0, 1)\n"
     ]
    }
   ],
   "source": [
    "nums2 = (0, 1)\n",
    "addElem(nums2, 2)\n",
    "print('\\nReturned:', nums2)"
   ]
  },
  {
   "cell_type": "markdown",
   "metadata": {},
   "source": [
    "### Formas de pasar argumentos\n",
    "\n",
    "- Por posición: `f(3, 4)`\n",
    "- Nombrados: `f(x=3, y=4)`\n",
    "- Expansión: \n",
    "  - `f(*(3, 4))` equivale a `f(3, 4)`\n",
    "  - `f(**{x:3, y:4}` equivale a `f(x=3, y=4)`\n",
    "\n",
    "Si se combinan, el orden siempre debe ser: posición, nombrados; y expandidos después de no expandidos. P.ej.:\n",
    "\n",
    "    f(1, y=2, z=3)\n",
    "    f(1 *[2,3])\n",
    "    f(1, *mytuple, w=10, **mydict)"
   ]
  },
  {
   "cell_type": "code",
   "execution_count": 45,
   "metadata": {},
   "outputs": [
    {
     "name": "stdout",
     "output_type": "stream",
     "text": [
      "a1: 3   a2: 4    a3: 5\n",
      "a1: 3   a2: 4    a3: 5\n",
      "a1: 3   a2: 4    a3: 5\n",
      "a1: 3   a2: 4    a3: 5\n"
     ]
    }
   ],
   "source": [
    "def f(a1, a2, a3):\n",
    "    print(f'a1: {a1}   a2: {a2}    a3: {a3}')\n",
    "\n",
    "f(3, *(4,5))\n",
    "f(3, 4, a3=5)\n",
    "f(*(3,4), a3=5)\n",
    "f(3, **{'a2':4, 'a3':5})"
   ]
  },
  {
   "cell_type": "markdown",
   "metadata": {},
   "source": [
    "### Formas de recoger argumentos\n",
    "\n",
    "- Argumentos con valores por defecto (si no son especificados por el llamante):   "
   ]
  },
  {
   "cell_type": "code",
   "execution_count": 40,
   "metadata": {},
   "outputs": [
    {
     "name": "stdout",
     "output_type": "stream",
     "text": [
      "a1: 3   a2: 4\n",
      "a1: 3   a2: 0\n"
     ]
    }
   ],
   "source": [
    "def f1(a1, a2=0):\n",
    "    print(f'a1: {a1}   a2: {a2}')\n",
    "    \n",
    "f1(3, 4)\n",
    "f1(3)"
   ]
  },
  {
   "cell_type": "markdown",
   "metadata": {},
   "source": [
    "- Resto de argumentos recogidos en una tupla:"
   ]
  },
  {
   "cell_type": "code",
   "execution_count": 41,
   "metadata": {},
   "outputs": [
    {
     "name": "stdout",
     "output_type": "stream",
     "text": [
      "a1: 3   rest: (4, 5)\n",
      "a1: 3   rest: (4, 5)\n",
      "a1: 3   rest: ()\n"
     ]
    }
   ],
   "source": [
    "def f2(a1, *rest):\n",
    "    print(f'a1: {a1}   rest: {rest}')\n",
    "\n",
    "f2(3, 4, 5)\n",
    "f2(3)"
   ]
  },
  {
   "cell_type": "markdown",
   "metadata": {},
   "source": [
    "- Resto de argumentos _nombrados_ recogidos en un diccionario:"
   ]
  },
  {
   "cell_type": "code",
   "execution_count": 37,
   "metadata": {},
   "outputs": [
    {
     "name": "stdout",
     "output_type": "stream",
     "text": [
      "a1: 3   rest: {'x': 4, 'y': 5}\n",
      "a1: 3   rest: {'x': 4, 'y': 5}\n",
      "a1: 3   rest: {}\n"
     ]
    }
   ],
   "source": [
    "def f3(a1, **rest):\n",
    "    print(f'a1: {a1}   rest: {rest}')\n",
    "\n",
    "f3(a1=3, x=4, y=5)\n",
    "f3(3, x=4, y=5)\n",
    "f3(3)"
   ]
  },
  {
   "cell_type": "code",
   "execution_count": 38,
   "metadata": {},
   "outputs": [
    {
     "ename": "TypeError",
     "evalue": "f3() takes 1 positional argument but 3 were given",
     "output_type": "error",
     "traceback": [
      "\u001b[0;31m---------------------------------------------------------------------------\u001b[0m",
      "\u001b[0;31mTypeError\u001b[0m                                 Traceback (most recent call last)",
      "\u001b[0;32m<ipython-input-38-7502e3fc4fa5>\u001b[0m in \u001b[0;36m<module>\u001b[0;34m\u001b[0m\n\u001b[0;32m----> 1\u001b[0;31m \u001b[0mf3\u001b[0m\u001b[0;34m(\u001b[0m\u001b[0;36m3\u001b[0m\u001b[0;34m,\u001b[0m \u001b[0;36m4\u001b[0m\u001b[0;34m,\u001b[0m \u001b[0;36m5\u001b[0m\u001b[0;34m)\u001b[0m\u001b[0;34m\u001b[0m\u001b[0;34m\u001b[0m\u001b[0m\n\u001b[0m",
      "\u001b[0;31mTypeError\u001b[0m: f3() takes 1 positional argument but 3 were given"
     ]
    }
   ],
   "source": [
    "f3(3, 4, 5)"
   ]
  }
 ],
 "metadata": {
  "kernelspec": {
   "display_name": "Python 3",
   "language": "python",
   "name": "python3"
  },
  "language_info": {
   "codemirror_mode": {
    "name": "ipython",
    "version": 3
   },
   "file_extension": ".py",
   "mimetype": "text/x-python",
   "name": "python",
   "nbconvert_exporter": "python",
   "pygments_lexer": "ipython3",
   "version": "3.8.2"
  }
 },
 "nbformat": 4,
 "nbformat_minor": 4
}
