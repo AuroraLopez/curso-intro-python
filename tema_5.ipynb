{
 "cells": [
  {
   "cell_type": "markdown",
   "metadata": {
    "slideshow": {
     "slide_type": "slide"
    }
   },
   "source": [
    "<font size=6>\n",
    "\n",
    "<b>Curso de Introducción a la Programación en Python</b>\n",
    "</font>\n",
    "\n",
    "<font size=4>\n",
    "    \n",
    "Curso de formación interna, CIEMAT \n",
    "Junio, 2020\n",
    "\n",
    "Antonio Delgado Peris\n",
    "</font>\n",
    "\n",
    "some url.. \n",
    "\n",
    "<br/>\n",
    "<br/>"
   ]
  },
  {
   "cell_type": "markdown",
   "metadata": {},
   "source": [
    "# Tema 5 - Entrada y Salida"
   ]
  },
  {
   "cell_type": "markdown",
   "metadata": {},
   "source": [
    "## Objetivos\n",
    "\n",
    "- Conocer mejor los strings, en particular la aplicación de formato\n",
    "- Ser capaz de leer y escribir de ficheros\n",
    "- Ser capaz de leer de la entrada estándar (`input`)\n",
    "- Introducir formatos de serialización de datos: `pickle` y `json`"
   ]
  },
  {
   "cell_type": "markdown",
   "metadata": {},
   "source": [
    "## Más sobre strings\n",
    "\n",
    "### Definición de strings\n",
    "\n",
    "- Una manera avanzada de definir strings largos es concatenarlas con espacios o saltos de líneas"
   ]
  },
  {
   "cell_type": "code",
   "execution_count": 161,
   "metadata": {},
   "outputs": [
    {
     "name": "stdout",
     "output_type": "stream",
     "text": [
      "two strings auto-concatenated\n",
      "also with line breaks\n"
     ]
    }
   ],
   "source": [
    "s = 'two strings ' 'auto-concatenated'\n",
    "print(s)\n",
    "s2 = ('also '\n",
    "      'with '\n",
    "      'line breaks')\n",
    "print(s2)"
   ]
  },
  {
   "cell_type": "markdown",
   "metadata": {},
   "source": [
    "- Se pueden incluir caracteres _especiales_ con `\\`"
   ]
  },
  {
   "cell_type": "code",
   "execution_count": 154,
   "metadata": {},
   "outputs": [
    {
     "name": "stdout",
     "output_type": "stream",
     "text": [
      "Ejemplo: \t: un tabulador, \n",
      ": un salto de línea, o la propia \\\n"
     ]
    }
   ],
   "source": [
    "print(\"Ejemplo: \\t: un tabulador, \\n: un salto de línea, o la propia \\\\\")"
   ]
  },
  {
   "cell_type": "markdown",
   "metadata": {},
   "source": [
    "- Pero con el modificador `r`, creamos _raw strings_, que no interpretan nada:"
   ]
  },
  {
   "cell_type": "code",
   "execution_count": 155,
   "metadata": {},
   "outputs": [
    {
     "name": "stdout",
     "output_type": "stream",
     "text": [
      "En este ejemplo no hay nada especial: \\t \\n \\\\\n"
     ]
    }
   ],
   "source": [
    "print(r\"En este ejemplo no hay nada especial: \\t \\n \\\\\")"
   ]
  },
  {
   "cell_type": "markdown",
   "metadata": {},
   "source": [
    "### Conversión a strings\n",
    "\n",
    "En Python, no hay conversión de tipos como tal. Lo que se hace es crear un nuevo objeto, a partir de uno dado.\n",
    "\n",
    "Podemos generar un objeto string que represente a cualquier objeto Python `obj`, con: `str(obj)`.\n",
    "\n",
    "- En realidad, estamos llamando al _constructor_ de la clase `str`, y generando un nuevo objeto string.\n",
    "\n",
    "También existe la función `repr(obj)`, que también crea un string representando a `obj`, pero en un formato válido para usar en un programa Python (p.ej. con `eval`).\n",
    "\n",
    "- En la práctica, `str()` y `repr()` devuelven el mismo resultado para la mayoría de tipos comunes.\n",
    "\n",
    "Nota: La función `print` acepta argumentos de cualquier tipo, e internamente utiliza `str()` para convertirlos\n",
    "\n",
    "- En caso de ambigüedad, siempre podemos usar `str()` explícitamente."
   ]
  },
  {
   "cell_type": "code",
   "execution_count": 3,
   "metadata": {},
   "outputs": [
    {
     "name": "stdout",
     "output_type": "stream",
     "text": [
      "Muestro un entero: 3\n",
      "O un string: 3\n",
      "<class 'int'> <class 'str'>\n"
     ]
    }
   ],
   "source": [
    "print('Muestro un entero:', 3)\n",
    "print('O un string:', str(3))\n",
    "print(type(3), type(str(3)))"
   ]
  },
  {
   "cell_type": "markdown",
   "metadata": {},
   "source": [
    "### Formateo de strings\n",
    "\n",
    "- Existen varias maneras de formatear strings e incluir valores de variables:\n",
    "\n",
    "  - Método más antiguo: operador `%`\n",
    "  - Método antiguo: función `format` (python 2.7 y python 3)\n",
    "  - Método más reciente: _fstrings_  (solo desde python 3.6)\n",
    "\n",
    "En este notebook, usaremos _fstrings_ cuando necesitemos formatear.\n",
    "\n",
    "- Pero los otros aparecen habitualmente, así que, al menos, conviene saber _leerlos_"
   ]
  },
  {
   "cell_type": "code",
   "execution_count": 112,
   "metadata": {},
   "outputs": [
    {
     "name": "stdout",
     "output_type": "stream",
     "text": [
      "My var is 3, or 3.000000\n",
      "My var is 3, or 3.000000\n",
      "My var is 3, or 3.000000\n"
     ]
    }
   ],
   "source": [
    "var = 3\n",
    "print(\"My var is %s, or %f\" % (var, var))\n",
    "print(\"My var is {0}, or {0:f}\".format(var))\n",
    "print(f\"My var is {var}, or {var:f}\")"
   ]
  },
  {
   "cell_type": "markdown",
   "metadata": {},
   "source": [
    "<br/>\n",
    "\n",
    "Las _fstrings_ soportan operaciones arbitrarias y de formato (usando `:<modificador>`) en sus expresiones."
   ]
  },
  {
   "cell_type": "code",
   "execution_count": 113,
   "metadata": {},
   "outputs": [
    {
     "name": "stdout",
     "output_type": "stream",
     "text": [
      "Twice my var is: 6\n",
      "Precision: 3.00\n",
      "Padding:        3\n",
      "Padding with char: _______3\n",
      "Inverse adding: 3_______\n"
     ]
    }
   ],
   "source": [
    "print(f'Twice my var is: {2*var}')\n",
    "print(f'Precision: {var:.2f}')\n",
    "print(f'Padding: {var:8}')\n",
    "print(f'Padding with char: {var:_>8}')\n",
    "print(f'Inverse adding: {var:_<8}')"
   ]
  },
  {
   "cell_type": "markdown",
   "metadata": {},
   "source": [
    "<br/>\n",
    "\n",
    "**EJERCICIO e3_6:** Usando las variables `v1`, `v2`, `v3` dadas...\n",
    "\n",
    "- Mostrarlas en tres líneas, alineadas a la derecha\n",
    "- Mostrar la línea `Puedes ir en la locomotora del tren, o en avión`."
   ]
  },
  {
   "cell_type": "code",
   "execution_count": 162,
   "metadata": {},
   "outputs": [],
   "source": [
    "v1 = 'locomotora'\n",
    "v2 = 'avión'\n",
    "v3 = 'tren'"
   ]
  },
  {
   "cell_type": "code",
   "execution_count": 170,
   "metadata": {},
   "outputs": [],
   "source": [
    "# Completar"
   ]
  },
  {
   "cell_type": "markdown",
   "metadata": {},
   "source": [
    "## Ficheros\n",
    "\n",
    "### Apertura\n",
    "\n",
    "La función `open` devuelve un objeto de tipo `file`, que permite leer y escribir un fichero.\n",
    "\n",
    "    mi_fichero = open(<ruta-fichero>, [<modo>])\n",
    "\n",
    "`file-path` es un string con el nombre/ruta del fichero, y `modo` puede ser uno de los siguientes:\n",
    "\n",
    "> `'r'`: lectura (el defecto, si no se especifica), `'w'`: modo escritura, `'a'`: modo _append_\n",
    "\n",
    "Por defecto, los ficheros se consideran de texto, lo que implica que se usa una codificación concreta (por defecto, el configurado en la máquina) para los caracteres.\n",
    "\n",
    "- Si el fichero es binario, debe indicarse añadiendo `'b'` al modo especificado para evitar modificaciones indeseadas."
   ]
  },
  {
   "cell_type": "code",
   "execution_count": 9,
   "metadata": {},
   "outputs": [],
   "source": [
    "f = open('myfile.txt', 'w')"
   ]
  },
  {
   "cell_type": "markdown",
   "metadata": {},
   "source": [
    "### Lectura y escritura\n",
    "\n",
    "El objeto fichero se puede usar para escribir con el método `write(<string>)`. \n",
    "\n",
    "Para cerrar un fichero (sea de lectura o escritura) se usa el método `close()`."
   ]
  },
  {
   "cell_type": "code",
   "execution_count": 10,
   "metadata": {},
   "outputs": [],
   "source": [
    "f.write('Just some text\\n')\n",
    "f.write('Some more\\n')\n",
    "f.close()"
   ]
  },
  {
   "cell_type": "markdown",
   "metadata": {},
   "source": [
    "Para leer de un fichero existen varios métodos:\n",
    "\n",
    "- `read(<num>)`: lee `num` caracteres (o bytes), o bien el fichero entero\n",
    "- `readline()` :  lee una sola línea\n",
    "- `readlines()`: lee todas las líneas y devuelve una lista"
   ]
  },
  {
   "cell_type": "code",
   "execution_count": 12,
   "metadata": {},
   "outputs": [
    {
     "name": "stdout",
     "output_type": "stream",
     "text": [
      "Just some text\n",
      "Some more\n",
      "\n"
     ]
    }
   ],
   "source": [
    "f = open('myfile.txt')\n",
    "print(f.read())\n",
    "f.close()"
   ]
  },
  {
   "cell_type": "markdown",
   "metadata": {},
   "source": [
    "### Prácticas recomendadas\n",
    "\n",
    "1. La sentencia `with` (_context manager_) permite asociar acciones predeterminadas a un objeto.\n",
    "\n",
    "  - En el caso de un fichero, `with` asegura que se cierre aunque haya algún error en las operaciones realizadas con él.\n",
    "  \n",
    "\n",
    "2. Una manera eficiente de leer un fichero línea a línea es recorrerlo en bucle (es iterable)"
   ]
  },
  {
   "cell_type": "code",
   "execution_count": 19,
   "metadata": {},
   "outputs": [
    {
     "name": "stdout",
     "output_type": "stream",
     "text": [
      "Just some text\n",
      "Some more\n",
      "\n",
      "¿El fichero está cerrado?: True\n"
     ]
    }
   ],
   "source": [
    "with open('myfile.txt') as f:\n",
    "    for line in f:\n",
    "        print(line, end='')\n",
    "        \n",
    "print('\\n¿El fichero está cerrado?:', f.closed)"
   ]
  },
  {
   "cell_type": "markdown",
   "metadata": {},
   "source": [
    "## Serialización\n",
    "\n",
    "Los métodos de lectura y escritua de ficheros vistos solo escriben o leen _strings_. Para manejar otro tipos de datos, se requieren conversiones. P.ej.:"
   ]
  },
  {
   "cell_type": "code",
   "execution_count": 21,
   "metadata": {},
   "outputs": [
    {
     "name": "stdout",
     "output_type": "stream",
     "text": [
      "Read: 256\n"
     ]
    }
   ],
   "source": [
    "num = 256\n",
    "\n",
    "with open('myfile.txt', 'w') as f:\n",
    "    f.write(str(num))\n",
    "\n",
    "with open('myfile.txt') as f:\n",
    "    num_read = int(f.read())\n",
    "\n",
    "print('Read:', num_read)"
   ]
  },
  {
   "cell_type": "markdown",
   "metadata": {},
   "source": [
    "<br/>\n",
    "\n",
    "Este método se torna rápidamente muy farragoso para datos más complejos. Sin embargo, existen protocolos que definen como convertir objetos en strings (_serializar_) de manera estándar y cómoda."
   ]
  },
  {
   "cell_type": "markdown",
   "metadata": {},
   "source": [
    "### JSON\n",
    "\n",
    "JSON (JavaScript Object Notation) es un estándar muy popular, usado para la representación de números, strings, listas y diccionarios en formato texto. \n",
    "\n",
    "No es específico de Python, por lo que permite almacenar información, y también compartirla entre diferentes lenguajes.\n",
    "\n",
    "En Python se puede usar con el módulo `json`."
   ]
  },
  {
   "cell_type": "code",
   "execution_count": 23,
   "metadata": {},
   "outputs": [
    {
     "name": "stdout",
     "output_type": "stream",
     "text": [
      "Json repr: <class 'str'> {\"a\": 10, \"b\": [0, 1, 2]}\n",
      "Read: <class 'dict'> {'a': 10, 'b': [0, 1, 2]}\n"
     ]
    }
   ],
   "source": [
    "import json\n",
    "\n",
    "d = {'a': 10, 'b': [0, 1, 2]}\n",
    "\n",
    "d_json = json.dumps(d)\n",
    "print('Json repr:', type(d_json), d_json)\n",
    "\n",
    "with open('myfile.txt', 'w') as f:\n",
    "    json.dump(d, f)\n",
    "\n",
    "with open('myfile.txt') as f:\n",
    "    obj_read = json.load(f)\n",
    "\n",
    "print('Read:', type(obj_read), obj_read)"
   ]
  },
  {
   "cell_type": "markdown",
   "metadata": {},
   "source": [
    "### Pickle\n",
    "\n",
    "El módulo `pickle` permite (de)serializar cualquier objeto Python (no solo los tipos básicos, como JSON), en un formato binario (serie de bytes, en lugar de caracteres).\n",
    "\n",
    "- Las desventajas (que me llevan a recomendar `json`) son dos: \n",
    "\n",
    "  - Es específico de Python, por lo que no se puede leer con otros lenguajes\n",
    "  - No es seguro, puesto que un fichero Pickle podría, potencialmente, codificar código malicioso\n",
    "\n",
    "\n",
    "- La ventaja de Pickle es que permite almacenar incluso clases de usuario, y es eficiente.\n",
    "\n",
    "  - En algún caso concreto, puede ser útil\n",
    "  \n",
    "Las funciones ofrecidas por `pickle` son las mismas que las de `json`."
   ]
  },
  {
   "cell_type": "markdown",
   "metadata": {},
   "source": [
    "### Funciones `eval` y `exec`\n",
    "\n",
    "Las funciones `eval` y `exec` pueden usarse para ejecutar código python expresado en forma literal (string). Esto puede considerarse otra manera de deserializar objetos y código previamente almacenados como strings.\n",
    "\n",
    "- `eval` acepta expresiones únicas y devuelven su evaluación\n",
    "- `exec` ejecuta una serie de instrucciones, pero siempre devuelve `None`\n",
    "\n",
    "**NOTA:** es un riesgo utilizar `eval/exec` con expresiones/instrucciones que no creemos nosotros mismos (p.ej. por entrada de usuario), pues puede contenter código malicioso."
   ]
  },
  {
   "cell_type": "code",
   "execution_count": 27,
   "metadata": {},
   "outputs": [
    {
     "data": {
      "text/plain": [
       "1"
      ]
     },
     "execution_count": 27,
     "metadata": {},
     "output_type": "execute_result"
    }
   ],
   "source": [
    "s = '[1, \"abc\"]'\n",
    "l = eval(s)\n",
    "l[0]"
   ]
  },
  {
   "cell_type": "markdown",
   "metadata": {},
   "source": [
    "## Lectura de la entrada estándar\n",
    "\n",
    "Para capturar información en un programa interactivo, se puede usar la función `input(<prompt>)`, que devuelve un string."
   ]
  },
  {
   "cell_type": "code",
   "execution_count": 28,
   "metadata": {},
   "outputs": [
    {
     "name": "stdin",
     "output_type": "stream",
     "text": [
      "Dime tu nombre: Pepe\n"
     ]
    },
    {
     "name": "stdout",
     "output_type": "stream",
     "text": [
      "Hola Pepe\n"
     ]
    }
   ],
   "source": [
    "nombre = input(\"Dime tu nombre:\")\n",
    "print(f\"Hola {nombre}\")"
   ]
  },
  {
   "cell_type": "markdown",
   "metadata": {},
   "source": [
    "- Si utilizamos `input` para recibir valores no textuales, tendremos que convertirlos a su correspondiente número (o usar `eval`, para expresiones más complejas)"
   ]
  },
  {
   "cell_type": "code",
   "execution_count": 29,
   "metadata": {},
   "outputs": [
    {
     "name": "stdin",
     "output_type": "stream",
     "text": [
      "Dime tu edad: 42\n"
     ]
    },
    {
     "name": "stdout",
     "output_type": "stream",
     "text": [
      "Te quedan 18 años para cumplir 60\n"
     ]
    }
   ],
   "source": [
    "edad = int(input(\"Dime tu edad:\"))\n",
    "print(f\"Te quedan {60-edad} años para cumplir 60\")"
   ]
  }
 ],
 "metadata": {
  "kernelspec": {
   "display_name": "Python 3",
   "language": "python",
   "name": "python3"
  },
  "language_info": {
   "codemirror_mode": {
    "name": "ipython",
    "version": 3
   },
   "file_extension": ".py",
   "mimetype": "text/x-python",
   "name": "python",
   "nbconvert_exporter": "python",
   "pygments_lexer": "ipython3",
   "version": "3.8.2"
  }
 },
 "nbformat": 4,
 "nbformat_minor": 4
}
